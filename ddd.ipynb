{
 "cells": [
  {
   "cell_type": "markdown",
   "id": "fd4a9963",
   "metadata": {},
   "source": [
    "<h1>Содержание<span class=\"tocSkip\"></span></h1>\n",
    "<div class=\"toc\"><ul class=\"toc-item\"><li><span><a href=\"#Подготовка-данных\" data-toc-modified-id=\"Подготовка-данных-1\"><span class=\"toc-item-num\">1&nbsp;&nbsp;</span>Подготовка данных</a></span></li><li><span><a href=\"#Исследование-задачи\" data-toc-modified-id=\"Исследование-задачи-2\"><span class=\"toc-item-num\">2&nbsp;&nbsp;</span>Исследование задачи</a></span></li><li><span><a href=\"#Борьба-с-дисбалансом\" data-toc-modified-id=\"Борьба-с-дисбалансом-3\"><span class=\"toc-item-num\">3&nbsp;&nbsp;</span>Борьба с дисбалансом</a></span></li><li><span><a href=\"#Тестирование-модели\" data-toc-modified-id=\"Тестирование-модели-4\"><span class=\"toc-item-num\">4&nbsp;&nbsp;</span>Тестирование модели</a></span></li><li><span><a href=\"#Чек-лист-готовности-проекта\" data-toc-modified-id=\"Чек-лист-готовности-проекта-5\"><span class=\"toc-item-num\">5&nbsp;&nbsp;</span>Чек-лист готовности проекта</a></span></li></ul></div>"
   ]
  },
  {
   "cell_type": "markdown",
   "id": "ddda7295",
   "metadata": {},
   "source": [
    "# Отток клиентов"
   ]
  },
  {
   "cell_type": "markdown",
   "id": "08eb3831",
   "metadata": {},
   "source": [
    "Из «Бета-Банка» стали уходить клиенты. Каждый месяц. Немного, но заметно. Банковские маркетологи посчитали: сохранять текущих клиентов дешевле, чем привлекать новых.\n",
    "\n",
    "Нужно спрогнозировать, уйдёт клиент из банка в ближайшее время или нет. Вам предоставлены исторические данные о поведении клиентов и расторжении договоров с банком. \n",
    "\n",
    "Постройте модель с предельно большим значением *F1*-меры. Чтобы сдать проект успешно, нужно довести метрику до 0.59. Проверьте *F1*-меру на тестовой выборке самостоятельно.\n",
    "\n",
    "Дополнительно измеряйте *AUC-ROC*, сравнивайте её значение с *F1*-мерой.\n",
    "\n",
    "Источник данных: [https://www.kaggle.com/barelydedicated/bank-customer-churn-modeling](https://www.kaggle.com/barelydedicated/bank-customer-churn-modeling)"
   ]
  },
  {
   "cell_type": "markdown",
   "id": "26887fa9",
   "metadata": {},
   "source": [
    "## Подготовка данных"
   ]
  },
  {
   "cell_type": "markdown",
   "id": "77c00d98",
   "metadata": {},
   "source": [
    "Итак для начала загрузим все что нам нужно из библиотек. Посмотрим данные разными способами, при необходимости изменим типы и обработаем пропустки. Разделим на обучающую и валидационную и тестовую для итоговой проверки."
   ]
  },
  {
   "cell_type": "code",
   "execution_count": 1,
   "id": "9bcdaac3",
   "metadata": {},
   "outputs": [],
   "source": [
    "import pandas as pd\n",
    "from sklearn.model_selection import train_test_split\n",
    "from sklearn.impute import SimpleImputer\n",
    "from sklearn.preprocessing import StandardScaler \n",
    "from sklearn.model_selection import GridSearchCV\n",
    "from sklearn.ensemble import RandomForestClassifier\n",
    "from sklearn.metrics import f1_score\n",
    "from sklearn.tree import DecisionTreeClassifier\n",
    "from sklearn.metrics import accuracy_score\n",
    "from sklearn.linear_model import LogisticRegression\n",
    "from sklearn.utils import shuffle\n",
    "from sklearn.metrics import roc_curve\n",
    "from sklearn.metrics import roc_auc_score\n",
    "from sklearn.metrics import precision_score\n",
    "from sklearn.metrics import recall_score"
   ]
  },
  {
   "cell_type": "code",
   "execution_count": 2,
   "id": "996a0bdf",
   "metadata": {},
   "outputs": [],
   "source": [
    "data = pd.read_csv('Churn.csv')\n",
    "#на сервере:\n",
    "#data = pd.read_csv('/datasets/Churn.csv')"
   ]
  },
  {
   "cell_type": "code",
   "execution_count": 3,
   "id": "0d235ccd",
   "metadata": {},
   "outputs": [
    {
     "name": "stdout",
     "output_type": "stream",
     "text": [
      "<class 'pandas.core.frame.DataFrame'>\n",
      "RangeIndex: 10000 entries, 0 to 9999\n",
      "Data columns (total 14 columns):\n",
      " #   Column           Non-Null Count  Dtype  \n",
      "---  ------           --------------  -----  \n",
      " 0   RowNumber        10000 non-null  int64  \n",
      " 1   CustomerId       10000 non-null  int64  \n",
      " 2   Surname          10000 non-null  object \n",
      " 3   CreditScore      10000 non-null  int64  \n",
      " 4   Geography        10000 non-null  object \n",
      " 5   Gender           10000 non-null  object \n",
      " 6   Age              10000 non-null  int64  \n",
      " 7   Tenure           9091 non-null   float64\n",
      " 8   Balance          10000 non-null  float64\n",
      " 9   NumOfProducts    10000 non-null  int64  \n",
      " 10  HasCrCard        10000 non-null  int64  \n",
      " 11  IsActiveMember   10000 non-null  int64  \n",
      " 12  EstimatedSalary  10000 non-null  float64\n",
      " 13  Exited           10000 non-null  int64  \n",
      "dtypes: float64(3), int64(8), object(3)\n",
      "memory usage: 1.1+ MB\n"
     ]
    }
   ],
   "source": [
    "data.info()"
   ]
  },
  {
   "cell_type": "code",
   "execution_count": 4,
   "id": "3d613178",
   "metadata": {
    "scrolled": true
   },
   "outputs": [
    {
     "data": {
      "text/html": [
       "<div>\n",
       "<style scoped>\n",
       "    .dataframe tbody tr th:only-of-type {\n",
       "        vertical-align: middle;\n",
       "    }\n",
       "\n",
       "    .dataframe tbody tr th {\n",
       "        vertical-align: top;\n",
       "    }\n",
       "\n",
       "    .dataframe thead th {\n",
       "        text-align: right;\n",
       "    }\n",
       "</style>\n",
       "<table border=\"1\" class=\"dataframe\">\n",
       "  <thead>\n",
       "    <tr style=\"text-align: right;\">\n",
       "      <th></th>\n",
       "      <th>RowNumber</th>\n",
       "      <th>CustomerId</th>\n",
       "      <th>Surname</th>\n",
       "      <th>CreditScore</th>\n",
       "      <th>Geography</th>\n",
       "      <th>Gender</th>\n",
       "      <th>Age</th>\n",
       "      <th>Tenure</th>\n",
       "      <th>Balance</th>\n",
       "      <th>NumOfProducts</th>\n",
       "      <th>HasCrCard</th>\n",
       "      <th>IsActiveMember</th>\n",
       "      <th>EstimatedSalary</th>\n",
       "      <th>Exited</th>\n",
       "    </tr>\n",
       "  </thead>\n",
       "  <tbody>\n",
       "    <tr>\n",
       "      <th>0</th>\n",
       "      <td>1</td>\n",
       "      <td>15634602</td>\n",
       "      <td>Hargrave</td>\n",
       "      <td>619</td>\n",
       "      <td>France</td>\n",
       "      <td>Female</td>\n",
       "      <td>42</td>\n",
       "      <td>2.0</td>\n",
       "      <td>0.00</td>\n",
       "      <td>1</td>\n",
       "      <td>1</td>\n",
       "      <td>1</td>\n",
       "      <td>101348.88</td>\n",
       "      <td>1</td>\n",
       "    </tr>\n",
       "    <tr>\n",
       "      <th>1</th>\n",
       "      <td>2</td>\n",
       "      <td>15647311</td>\n",
       "      <td>Hill</td>\n",
       "      <td>608</td>\n",
       "      <td>Spain</td>\n",
       "      <td>Female</td>\n",
       "      <td>41</td>\n",
       "      <td>1.0</td>\n",
       "      <td>83807.86</td>\n",
       "      <td>1</td>\n",
       "      <td>0</td>\n",
       "      <td>1</td>\n",
       "      <td>112542.58</td>\n",
       "      <td>0</td>\n",
       "    </tr>\n",
       "    <tr>\n",
       "      <th>2</th>\n",
       "      <td>3</td>\n",
       "      <td>15619304</td>\n",
       "      <td>Onio</td>\n",
       "      <td>502</td>\n",
       "      <td>France</td>\n",
       "      <td>Female</td>\n",
       "      <td>42</td>\n",
       "      <td>8.0</td>\n",
       "      <td>159660.80</td>\n",
       "      <td>3</td>\n",
       "      <td>1</td>\n",
       "      <td>0</td>\n",
       "      <td>113931.57</td>\n",
       "      <td>1</td>\n",
       "    </tr>\n",
       "    <tr>\n",
       "      <th>3</th>\n",
       "      <td>4</td>\n",
       "      <td>15701354</td>\n",
       "      <td>Boni</td>\n",
       "      <td>699</td>\n",
       "      <td>France</td>\n",
       "      <td>Female</td>\n",
       "      <td>39</td>\n",
       "      <td>1.0</td>\n",
       "      <td>0.00</td>\n",
       "      <td>2</td>\n",
       "      <td>0</td>\n",
       "      <td>0</td>\n",
       "      <td>93826.63</td>\n",
       "      <td>0</td>\n",
       "    </tr>\n",
       "    <tr>\n",
       "      <th>4</th>\n",
       "      <td>5</td>\n",
       "      <td>15737888</td>\n",
       "      <td>Mitchell</td>\n",
       "      <td>850</td>\n",
       "      <td>Spain</td>\n",
       "      <td>Female</td>\n",
       "      <td>43</td>\n",
       "      <td>2.0</td>\n",
       "      <td>125510.82</td>\n",
       "      <td>1</td>\n",
       "      <td>1</td>\n",
       "      <td>1</td>\n",
       "      <td>79084.10</td>\n",
       "      <td>0</td>\n",
       "    </tr>\n",
       "  </tbody>\n",
       "</table>\n",
       "</div>"
      ],
      "text/plain": [
       "   RowNumber  CustomerId   Surname  CreditScore Geography  Gender  Age  \\\n",
       "0          1    15634602  Hargrave          619    France  Female   42   \n",
       "1          2    15647311      Hill          608     Spain  Female   41   \n",
       "2          3    15619304      Onio          502    France  Female   42   \n",
       "3          4    15701354      Boni          699    France  Female   39   \n",
       "4          5    15737888  Mitchell          850     Spain  Female   43   \n",
       "\n",
       "   Tenure    Balance  NumOfProducts  HasCrCard  IsActiveMember  \\\n",
       "0     2.0       0.00              1          1               1   \n",
       "1     1.0   83807.86              1          0               1   \n",
       "2     8.0  159660.80              3          1               0   \n",
       "3     1.0       0.00              2          0               0   \n",
       "4     2.0  125510.82              1          1               1   \n",
       "\n",
       "   EstimatedSalary  Exited  \n",
       "0        101348.88       1  \n",
       "1        112542.58       0  \n",
       "2        113931.57       1  \n",
       "3         93826.63       0  \n",
       "4         79084.10       0  "
      ]
     },
     "execution_count": 4,
     "metadata": {},
     "output_type": "execute_result"
    }
   ],
   "source": [
    "data.head()"
   ]
  },
  {
   "cell_type": "code",
   "execution_count": 5,
   "id": "d4a13472",
   "metadata": {
    "scrolled": true
   },
   "outputs": [
    {
     "data": {
      "text/html": [
       "<div>\n",
       "<style scoped>\n",
       "    .dataframe tbody tr th:only-of-type {\n",
       "        vertical-align: middle;\n",
       "    }\n",
       "\n",
       "    .dataframe tbody tr th {\n",
       "        vertical-align: top;\n",
       "    }\n",
       "\n",
       "    .dataframe thead th {\n",
       "        text-align: right;\n",
       "    }\n",
       "</style>\n",
       "<table border=\"1\" class=\"dataframe\">\n",
       "  <thead>\n",
       "    <tr style=\"text-align: right;\">\n",
       "      <th></th>\n",
       "      <th>RowNumber</th>\n",
       "      <th>CustomerId</th>\n",
       "      <th>CreditScore</th>\n",
       "      <th>Age</th>\n",
       "      <th>Tenure</th>\n",
       "      <th>Balance</th>\n",
       "      <th>NumOfProducts</th>\n",
       "      <th>HasCrCard</th>\n",
       "      <th>IsActiveMember</th>\n",
       "      <th>EstimatedSalary</th>\n",
       "      <th>Exited</th>\n",
       "    </tr>\n",
       "  </thead>\n",
       "  <tbody>\n",
       "    <tr>\n",
       "      <th>count</th>\n",
       "      <td>10000.00000</td>\n",
       "      <td>1.000000e+04</td>\n",
       "      <td>10000.000000</td>\n",
       "      <td>10000.000000</td>\n",
       "      <td>9091.000000</td>\n",
       "      <td>10000.000000</td>\n",
       "      <td>10000.000000</td>\n",
       "      <td>10000.00000</td>\n",
       "      <td>10000.000000</td>\n",
       "      <td>10000.000000</td>\n",
       "      <td>10000.000000</td>\n",
       "    </tr>\n",
       "    <tr>\n",
       "      <th>mean</th>\n",
       "      <td>5000.50000</td>\n",
       "      <td>1.569094e+07</td>\n",
       "      <td>650.528800</td>\n",
       "      <td>38.921800</td>\n",
       "      <td>4.997690</td>\n",
       "      <td>76485.889288</td>\n",
       "      <td>1.530200</td>\n",
       "      <td>0.70550</td>\n",
       "      <td>0.515100</td>\n",
       "      <td>100090.239881</td>\n",
       "      <td>0.203700</td>\n",
       "    </tr>\n",
       "    <tr>\n",
       "      <th>std</th>\n",
       "      <td>2886.89568</td>\n",
       "      <td>7.193619e+04</td>\n",
       "      <td>96.653299</td>\n",
       "      <td>10.487806</td>\n",
       "      <td>2.894723</td>\n",
       "      <td>62397.405202</td>\n",
       "      <td>0.581654</td>\n",
       "      <td>0.45584</td>\n",
       "      <td>0.499797</td>\n",
       "      <td>57510.492818</td>\n",
       "      <td>0.402769</td>\n",
       "    </tr>\n",
       "    <tr>\n",
       "      <th>min</th>\n",
       "      <td>1.00000</td>\n",
       "      <td>1.556570e+07</td>\n",
       "      <td>350.000000</td>\n",
       "      <td>18.000000</td>\n",
       "      <td>0.000000</td>\n",
       "      <td>0.000000</td>\n",
       "      <td>1.000000</td>\n",
       "      <td>0.00000</td>\n",
       "      <td>0.000000</td>\n",
       "      <td>11.580000</td>\n",
       "      <td>0.000000</td>\n",
       "    </tr>\n",
       "    <tr>\n",
       "      <th>25%</th>\n",
       "      <td>2500.75000</td>\n",
       "      <td>1.562853e+07</td>\n",
       "      <td>584.000000</td>\n",
       "      <td>32.000000</td>\n",
       "      <td>2.000000</td>\n",
       "      <td>0.000000</td>\n",
       "      <td>1.000000</td>\n",
       "      <td>0.00000</td>\n",
       "      <td>0.000000</td>\n",
       "      <td>51002.110000</td>\n",
       "      <td>0.000000</td>\n",
       "    </tr>\n",
       "    <tr>\n",
       "      <th>50%</th>\n",
       "      <td>5000.50000</td>\n",
       "      <td>1.569074e+07</td>\n",
       "      <td>652.000000</td>\n",
       "      <td>37.000000</td>\n",
       "      <td>5.000000</td>\n",
       "      <td>97198.540000</td>\n",
       "      <td>1.000000</td>\n",
       "      <td>1.00000</td>\n",
       "      <td>1.000000</td>\n",
       "      <td>100193.915000</td>\n",
       "      <td>0.000000</td>\n",
       "    </tr>\n",
       "    <tr>\n",
       "      <th>75%</th>\n",
       "      <td>7500.25000</td>\n",
       "      <td>1.575323e+07</td>\n",
       "      <td>718.000000</td>\n",
       "      <td>44.000000</td>\n",
       "      <td>7.000000</td>\n",
       "      <td>127644.240000</td>\n",
       "      <td>2.000000</td>\n",
       "      <td>1.00000</td>\n",
       "      <td>1.000000</td>\n",
       "      <td>149388.247500</td>\n",
       "      <td>0.000000</td>\n",
       "    </tr>\n",
       "    <tr>\n",
       "      <th>max</th>\n",
       "      <td>10000.00000</td>\n",
       "      <td>1.581569e+07</td>\n",
       "      <td>850.000000</td>\n",
       "      <td>92.000000</td>\n",
       "      <td>10.000000</td>\n",
       "      <td>250898.090000</td>\n",
       "      <td>4.000000</td>\n",
       "      <td>1.00000</td>\n",
       "      <td>1.000000</td>\n",
       "      <td>199992.480000</td>\n",
       "      <td>1.000000</td>\n",
       "    </tr>\n",
       "  </tbody>\n",
       "</table>\n",
       "</div>"
      ],
      "text/plain": [
       "         RowNumber    CustomerId   CreditScore           Age       Tenure  \\\n",
       "count  10000.00000  1.000000e+04  10000.000000  10000.000000  9091.000000   \n",
       "mean    5000.50000  1.569094e+07    650.528800     38.921800     4.997690   \n",
       "std     2886.89568  7.193619e+04     96.653299     10.487806     2.894723   \n",
       "min        1.00000  1.556570e+07    350.000000     18.000000     0.000000   \n",
       "25%     2500.75000  1.562853e+07    584.000000     32.000000     2.000000   \n",
       "50%     5000.50000  1.569074e+07    652.000000     37.000000     5.000000   \n",
       "75%     7500.25000  1.575323e+07    718.000000     44.000000     7.000000   \n",
       "max    10000.00000  1.581569e+07    850.000000     92.000000    10.000000   \n",
       "\n",
       "             Balance  NumOfProducts    HasCrCard  IsActiveMember  \\\n",
       "count   10000.000000   10000.000000  10000.00000    10000.000000   \n",
       "mean    76485.889288       1.530200      0.70550        0.515100   \n",
       "std     62397.405202       0.581654      0.45584        0.499797   \n",
       "min         0.000000       1.000000      0.00000        0.000000   \n",
       "25%         0.000000       1.000000      0.00000        0.000000   \n",
       "50%     97198.540000       1.000000      1.00000        1.000000   \n",
       "75%    127644.240000       2.000000      1.00000        1.000000   \n",
       "max    250898.090000       4.000000      1.00000        1.000000   \n",
       "\n",
       "       EstimatedSalary        Exited  \n",
       "count     10000.000000  10000.000000  \n",
       "mean     100090.239881      0.203700  \n",
       "std       57510.492818      0.402769  \n",
       "min          11.580000      0.000000  \n",
       "25%       51002.110000      0.000000  \n",
       "50%      100193.915000      0.000000  \n",
       "75%      149388.247500      0.000000  \n",
       "max      199992.480000      1.000000  "
      ]
     },
     "execution_count": 5,
     "metadata": {},
     "output_type": "execute_result"
    }
   ],
   "source": [
    "data.describe()"
   ]
  },
  {
   "cell_type": "markdown",
   "id": "38d84c2c",
   "metadata": {},
   "source": [
    "- RowNumber — индекс строки в данных\n",
    "- CustomerId — уникальный идентификатор клиента\n",
    "- Surname — фамилия\n",
    "- CreditScore — кредитный рейтинг\n",
    "- Geography — страна проживания\n",
    "- Gender — пол\n",
    "- Age — возраст\n",
    "- Tenure — сколько лет человек является клиентом банка\n",
    "- Balance — баланс на счёте\n",
    "- NumOfProducts — количество продуктов банка, используемых клиентом\n",
    "- HasCrCard — наличие кредитной карты\n",
    "- IsActiveMember — активность клиента\n",
    "- EstimatedSalary — предполагаемая зарплата\n",
    "\n",
    "- Exited - целевой признак!!! "
   ]
  },
  {
   "cell_type": "markdown",
   "id": "14ae96fe",
   "metadata": {},
   "source": [
    "Первое что бросилось в глаза - Tenure. Несколька незаполненных строк. Я думаю, что замена средним будет хорошим решением."
   ]
  },
  {
   "cell_type": "code",
   "execution_count": 6,
   "id": "988e339a",
   "metadata": {},
   "outputs": [],
   "source": [
    "data['Tenure'] = data['Tenure'].fillna(value = data['Tenure'].mean())"
   ]
  },
  {
   "cell_type": "code",
   "execution_count": 7,
   "id": "23870613",
   "metadata": {},
   "outputs": [
    {
     "name": "stdout",
     "output_type": "stream",
     "text": [
      "<class 'pandas.core.frame.DataFrame'>\n",
      "RangeIndex: 10000 entries, 0 to 9999\n",
      "Data columns (total 14 columns):\n",
      " #   Column           Non-Null Count  Dtype  \n",
      "---  ------           --------------  -----  \n",
      " 0   RowNumber        10000 non-null  int64  \n",
      " 1   CustomerId       10000 non-null  int64  \n",
      " 2   Surname          10000 non-null  object \n",
      " 3   CreditScore      10000 non-null  int64  \n",
      " 4   Geography        10000 non-null  object \n",
      " 5   Gender           10000 non-null  object \n",
      " 6   Age              10000 non-null  int64  \n",
      " 7   Tenure           10000 non-null  float64\n",
      " 8   Balance          10000 non-null  float64\n",
      " 9   NumOfProducts    10000 non-null  int64  \n",
      " 10  HasCrCard        10000 non-null  int64  \n",
      " 11  IsActiveMember   10000 non-null  int64  \n",
      " 12  EstimatedSalary  10000 non-null  float64\n",
      " 13  Exited           10000 non-null  int64  \n",
      "dtypes: float64(3), int64(8), object(3)\n",
      "memory usage: 1.1+ MB\n"
     ]
    }
   ],
   "source": [
    "data.info()"
   ]
  },
  {
   "cell_type": "markdown",
   "id": "2099ff27",
   "metadata": {},
   "source": [
    "Далее: в признаках есть такие, что не влияют на центральный: RowNumber, CustomerId, Surname. Для лучшей работы модели - просто исключим их."
   ]
  },
  {
   "cell_type": "code",
   "execution_count": 8,
   "id": "f7410291",
   "metadata": {},
   "outputs": [],
   "source": [
    "data = data.drop(['RowNumber','CustomerId','Surname'], axis = 1)"
   ]
  },
  {
   "cell_type": "code",
   "execution_count": 9,
   "id": "98620c86",
   "metadata": {
    "scrolled": true
   },
   "outputs": [
    {
     "data": {
      "text/html": [
       "<div>\n",
       "<style scoped>\n",
       "    .dataframe tbody tr th:only-of-type {\n",
       "        vertical-align: middle;\n",
       "    }\n",
       "\n",
       "    .dataframe tbody tr th {\n",
       "        vertical-align: top;\n",
       "    }\n",
       "\n",
       "    .dataframe thead th {\n",
       "        text-align: right;\n",
       "    }\n",
       "</style>\n",
       "<table border=\"1\" class=\"dataframe\">\n",
       "  <thead>\n",
       "    <tr style=\"text-align: right;\">\n",
       "      <th></th>\n",
       "      <th>CreditScore</th>\n",
       "      <th>Geography</th>\n",
       "      <th>Gender</th>\n",
       "      <th>Age</th>\n",
       "      <th>Tenure</th>\n",
       "      <th>Balance</th>\n",
       "      <th>NumOfProducts</th>\n",
       "      <th>HasCrCard</th>\n",
       "      <th>IsActiveMember</th>\n",
       "      <th>EstimatedSalary</th>\n",
       "      <th>Exited</th>\n",
       "    </tr>\n",
       "  </thead>\n",
       "  <tbody>\n",
       "    <tr>\n",
       "      <th>0</th>\n",
       "      <td>619</td>\n",
       "      <td>France</td>\n",
       "      <td>Female</td>\n",
       "      <td>42</td>\n",
       "      <td>2.0</td>\n",
       "      <td>0.00</td>\n",
       "      <td>1</td>\n",
       "      <td>1</td>\n",
       "      <td>1</td>\n",
       "      <td>101348.88</td>\n",
       "      <td>1</td>\n",
       "    </tr>\n",
       "    <tr>\n",
       "      <th>1</th>\n",
       "      <td>608</td>\n",
       "      <td>Spain</td>\n",
       "      <td>Female</td>\n",
       "      <td>41</td>\n",
       "      <td>1.0</td>\n",
       "      <td>83807.86</td>\n",
       "      <td>1</td>\n",
       "      <td>0</td>\n",
       "      <td>1</td>\n",
       "      <td>112542.58</td>\n",
       "      <td>0</td>\n",
       "    </tr>\n",
       "    <tr>\n",
       "      <th>2</th>\n",
       "      <td>502</td>\n",
       "      <td>France</td>\n",
       "      <td>Female</td>\n",
       "      <td>42</td>\n",
       "      <td>8.0</td>\n",
       "      <td>159660.80</td>\n",
       "      <td>3</td>\n",
       "      <td>1</td>\n",
       "      <td>0</td>\n",
       "      <td>113931.57</td>\n",
       "      <td>1</td>\n",
       "    </tr>\n",
       "    <tr>\n",
       "      <th>3</th>\n",
       "      <td>699</td>\n",
       "      <td>France</td>\n",
       "      <td>Female</td>\n",
       "      <td>39</td>\n",
       "      <td>1.0</td>\n",
       "      <td>0.00</td>\n",
       "      <td>2</td>\n",
       "      <td>0</td>\n",
       "      <td>0</td>\n",
       "      <td>93826.63</td>\n",
       "      <td>0</td>\n",
       "    </tr>\n",
       "    <tr>\n",
       "      <th>4</th>\n",
       "      <td>850</td>\n",
       "      <td>Spain</td>\n",
       "      <td>Female</td>\n",
       "      <td>43</td>\n",
       "      <td>2.0</td>\n",
       "      <td>125510.82</td>\n",
       "      <td>1</td>\n",
       "      <td>1</td>\n",
       "      <td>1</td>\n",
       "      <td>79084.10</td>\n",
       "      <td>0</td>\n",
       "    </tr>\n",
       "  </tbody>\n",
       "</table>\n",
       "</div>"
      ],
      "text/plain": [
       "   CreditScore Geography  Gender  Age  Tenure    Balance  NumOfProducts  \\\n",
       "0          619    France  Female   42     2.0       0.00              1   \n",
       "1          608     Spain  Female   41     1.0   83807.86              1   \n",
       "2          502    France  Female   42     8.0  159660.80              3   \n",
       "3          699    France  Female   39     1.0       0.00              2   \n",
       "4          850     Spain  Female   43     2.0  125510.82              1   \n",
       "\n",
       "   HasCrCard  IsActiveMember  EstimatedSalary  Exited  \n",
       "0          1               1        101348.88       1  \n",
       "1          0               1        112542.58       0  \n",
       "2          1               0        113931.57       1  \n",
       "3          0               0         93826.63       0  \n",
       "4          1               1         79084.10       0  "
      ]
     },
     "execution_count": 9,
     "metadata": {},
     "output_type": "execute_result"
    }
   ],
   "source": [
    "data.head()"
   ]
  },
  {
   "cell_type": "markdown",
   "id": "403e7d2c",
   "metadata": {},
   "source": [
    "Два признака Gender и Geography имеют строковый тип данных, это нужно исправить техникой прямого кодирования."
   ]
  },
  {
   "cell_type": "code",
   "execution_count": 10,
   "id": "586ec156",
   "metadata": {},
   "outputs": [],
   "source": [
    "data = pd.get_dummies(data, columns = ['Geography', 'Gender'], drop_first = True)"
   ]
  },
  {
   "cell_type": "code",
   "execution_count": 11,
   "id": "ff6659e0",
   "metadata": {},
   "outputs": [
    {
     "name": "stdout",
     "output_type": "stream",
     "text": [
      "<class 'pandas.core.frame.DataFrame'>\n",
      "RangeIndex: 10000 entries, 0 to 9999\n",
      "Data columns (total 12 columns):\n",
      " #   Column             Non-Null Count  Dtype  \n",
      "---  ------             --------------  -----  \n",
      " 0   CreditScore        10000 non-null  int64  \n",
      " 1   Age                10000 non-null  int64  \n",
      " 2   Tenure             10000 non-null  float64\n",
      " 3   Balance            10000 non-null  float64\n",
      " 4   NumOfProducts      10000 non-null  int64  \n",
      " 5   HasCrCard          10000 non-null  int64  \n",
      " 6   IsActiveMember     10000 non-null  int64  \n",
      " 7   EstimatedSalary    10000 non-null  float64\n",
      " 8   Exited             10000 non-null  int64  \n",
      " 9   Geography_Germany  10000 non-null  uint8  \n",
      " 10  Geography_Spain    10000 non-null  uint8  \n",
      " 11  Gender_Male        10000 non-null  uint8  \n",
      "dtypes: float64(3), int64(6), uint8(3)\n",
      "memory usage: 732.5 KB\n"
     ]
    }
   ],
   "source": [
    "data.info()"
   ]
  },
  {
   "cell_type": "markdown",
   "id": "731fc848",
   "metadata": {},
   "source": [
    "Масштабирование признаков. "
   ]
  },
  {
   "cell_type": "code",
   "execution_count": 12,
   "id": "c5374f11",
   "metadata": {
    "scrolled": true
   },
   "outputs": [
    {
     "data": {
      "text/html": [
       "<div>\n",
       "<style scoped>\n",
       "    .dataframe tbody tr th:only-of-type {\n",
       "        vertical-align: middle;\n",
       "    }\n",
       "\n",
       "    .dataframe tbody tr th {\n",
       "        vertical-align: top;\n",
       "    }\n",
       "\n",
       "    .dataframe thead th {\n",
       "        text-align: right;\n",
       "    }\n",
       "</style>\n",
       "<table border=\"1\" class=\"dataframe\">\n",
       "  <thead>\n",
       "    <tr style=\"text-align: right;\">\n",
       "      <th></th>\n",
       "      <th>CreditScore</th>\n",
       "      <th>Age</th>\n",
       "      <th>Tenure</th>\n",
       "      <th>Balance</th>\n",
       "      <th>NumOfProducts</th>\n",
       "      <th>HasCrCard</th>\n",
       "      <th>IsActiveMember</th>\n",
       "      <th>EstimatedSalary</th>\n",
       "      <th>Exited</th>\n",
       "      <th>Geography_Germany</th>\n",
       "      <th>Geography_Spain</th>\n",
       "      <th>Gender_Male</th>\n",
       "    </tr>\n",
       "  </thead>\n",
       "  <tbody>\n",
       "    <tr>\n",
       "      <th>count</th>\n",
       "      <td>10000.000000</td>\n",
       "      <td>10000.000000</td>\n",
       "      <td>10000.00000</td>\n",
       "      <td>10000.000000</td>\n",
       "      <td>10000.000000</td>\n",
       "      <td>10000.00000</td>\n",
       "      <td>10000.000000</td>\n",
       "      <td>10000.000000</td>\n",
       "      <td>10000.000000</td>\n",
       "      <td>10000.000000</td>\n",
       "      <td>10000.000000</td>\n",
       "      <td>10000.000000</td>\n",
       "    </tr>\n",
       "    <tr>\n",
       "      <th>mean</th>\n",
       "      <td>650.528800</td>\n",
       "      <td>38.921800</td>\n",
       "      <td>4.99769</td>\n",
       "      <td>76485.889288</td>\n",
       "      <td>1.530200</td>\n",
       "      <td>0.70550</td>\n",
       "      <td>0.515100</td>\n",
       "      <td>100090.239881</td>\n",
       "      <td>0.203700</td>\n",
       "      <td>0.250900</td>\n",
       "      <td>0.247700</td>\n",
       "      <td>0.545700</td>\n",
       "    </tr>\n",
       "    <tr>\n",
       "      <th>std</th>\n",
       "      <td>96.653299</td>\n",
       "      <td>10.487806</td>\n",
       "      <td>2.76001</td>\n",
       "      <td>62397.405202</td>\n",
       "      <td>0.581654</td>\n",
       "      <td>0.45584</td>\n",
       "      <td>0.499797</td>\n",
       "      <td>57510.492818</td>\n",
       "      <td>0.402769</td>\n",
       "      <td>0.433553</td>\n",
       "      <td>0.431698</td>\n",
       "      <td>0.497932</td>\n",
       "    </tr>\n",
       "    <tr>\n",
       "      <th>min</th>\n",
       "      <td>350.000000</td>\n",
       "      <td>18.000000</td>\n",
       "      <td>0.00000</td>\n",
       "      <td>0.000000</td>\n",
       "      <td>1.000000</td>\n",
       "      <td>0.00000</td>\n",
       "      <td>0.000000</td>\n",
       "      <td>11.580000</td>\n",
       "      <td>0.000000</td>\n",
       "      <td>0.000000</td>\n",
       "      <td>0.000000</td>\n",
       "      <td>0.000000</td>\n",
       "    </tr>\n",
       "    <tr>\n",
       "      <th>25%</th>\n",
       "      <td>584.000000</td>\n",
       "      <td>32.000000</td>\n",
       "      <td>3.00000</td>\n",
       "      <td>0.000000</td>\n",
       "      <td>1.000000</td>\n",
       "      <td>0.00000</td>\n",
       "      <td>0.000000</td>\n",
       "      <td>51002.110000</td>\n",
       "      <td>0.000000</td>\n",
       "      <td>0.000000</td>\n",
       "      <td>0.000000</td>\n",
       "      <td>0.000000</td>\n",
       "    </tr>\n",
       "    <tr>\n",
       "      <th>50%</th>\n",
       "      <td>652.000000</td>\n",
       "      <td>37.000000</td>\n",
       "      <td>4.99769</td>\n",
       "      <td>97198.540000</td>\n",
       "      <td>1.000000</td>\n",
       "      <td>1.00000</td>\n",
       "      <td>1.000000</td>\n",
       "      <td>100193.915000</td>\n",
       "      <td>0.000000</td>\n",
       "      <td>0.000000</td>\n",
       "      <td>0.000000</td>\n",
       "      <td>1.000000</td>\n",
       "    </tr>\n",
       "    <tr>\n",
       "      <th>75%</th>\n",
       "      <td>718.000000</td>\n",
       "      <td>44.000000</td>\n",
       "      <td>7.00000</td>\n",
       "      <td>127644.240000</td>\n",
       "      <td>2.000000</td>\n",
       "      <td>1.00000</td>\n",
       "      <td>1.000000</td>\n",
       "      <td>149388.247500</td>\n",
       "      <td>0.000000</td>\n",
       "      <td>1.000000</td>\n",
       "      <td>0.000000</td>\n",
       "      <td>1.000000</td>\n",
       "    </tr>\n",
       "    <tr>\n",
       "      <th>max</th>\n",
       "      <td>850.000000</td>\n",
       "      <td>92.000000</td>\n",
       "      <td>10.00000</td>\n",
       "      <td>250898.090000</td>\n",
       "      <td>4.000000</td>\n",
       "      <td>1.00000</td>\n",
       "      <td>1.000000</td>\n",
       "      <td>199992.480000</td>\n",
       "      <td>1.000000</td>\n",
       "      <td>1.000000</td>\n",
       "      <td>1.000000</td>\n",
       "      <td>1.000000</td>\n",
       "    </tr>\n",
       "  </tbody>\n",
       "</table>\n",
       "</div>"
      ],
      "text/plain": [
       "        CreditScore           Age       Tenure        Balance  NumOfProducts  \\\n",
       "count  10000.000000  10000.000000  10000.00000   10000.000000   10000.000000   \n",
       "mean     650.528800     38.921800      4.99769   76485.889288       1.530200   \n",
       "std       96.653299     10.487806      2.76001   62397.405202       0.581654   \n",
       "min      350.000000     18.000000      0.00000       0.000000       1.000000   \n",
       "25%      584.000000     32.000000      3.00000       0.000000       1.000000   \n",
       "50%      652.000000     37.000000      4.99769   97198.540000       1.000000   \n",
       "75%      718.000000     44.000000      7.00000  127644.240000       2.000000   \n",
       "max      850.000000     92.000000     10.00000  250898.090000       4.000000   \n",
       "\n",
       "         HasCrCard  IsActiveMember  EstimatedSalary        Exited  \\\n",
       "count  10000.00000    10000.000000     10000.000000  10000.000000   \n",
       "mean       0.70550        0.515100    100090.239881      0.203700   \n",
       "std        0.45584        0.499797     57510.492818      0.402769   \n",
       "min        0.00000        0.000000        11.580000      0.000000   \n",
       "25%        0.00000        0.000000     51002.110000      0.000000   \n",
       "50%        1.00000        1.000000    100193.915000      0.000000   \n",
       "75%        1.00000        1.000000    149388.247500      0.000000   \n",
       "max        1.00000        1.000000    199992.480000      1.000000   \n",
       "\n",
       "       Geography_Germany  Geography_Spain   Gender_Male  \n",
       "count       10000.000000     10000.000000  10000.000000  \n",
       "mean            0.250900         0.247700      0.545700  \n",
       "std             0.433553         0.431698      0.497932  \n",
       "min             0.000000         0.000000      0.000000  \n",
       "25%             0.000000         0.000000      0.000000  \n",
       "50%             0.000000         0.000000      1.000000  \n",
       "75%             1.000000         0.000000      1.000000  \n",
       "max             1.000000         1.000000      1.000000  "
      ]
     },
     "execution_count": 12,
     "metadata": {},
     "output_type": "execute_result"
    }
   ],
   "source": [
    "data.describe()"
   ]
  },
  {
   "cell_type": "code",
   "execution_count": 13,
   "id": "aebc4c07",
   "metadata": {},
   "outputs": [],
   "source": [
    "numeric = ['Age','Balance','EstimatedSalary', 'CreditScore']"
   ]
  },
  {
   "cell_type": "code",
   "execution_count": 14,
   "id": "b900bcb6",
   "metadata": {},
   "outputs": [],
   "source": [
    "scaler = StandardScaler()"
   ]
  },
  {
   "cell_type": "markdown",
   "id": "7077d73b",
   "metadata": {},
   "source": [
    "выделим целевой признак и разделим данные на обучающую, валидационную, тестовые выборки "
   ]
  },
  {
   "cell_type": "code",
   "execution_count": 15,
   "id": "e01b737c",
   "metadata": {},
   "outputs": [],
   "source": [
    "data_features = data.drop(['Exited'], axis = 1)\n",
    "data_target = data['Exited']"
   ]
  },
  {
   "cell_type": "code",
   "execution_count": 16,
   "id": "c7904501",
   "metadata": {},
   "outputs": [],
   "source": [
    "features_train,features_test, target_train, target_test = train_test_split(data_features, data_target, test_size = .4,\n",
    "                                                                           stratify = data_target, random_state = 12345)\n",
    "features_test,features_valid, target_test, target_valid = train_test_split(features_test, target_test, test_size = 0.5,\n",
    "                                                                            stratify = target_test, random_state = 12345)"
   ]
  },
  {
   "cell_type": "code",
   "execution_count": 17,
   "id": "59cab3b8",
   "metadata": {
    "scrolled": true
   },
   "outputs": [
    {
     "data": {
      "text/plain": [
       "StandardScaler()"
      ]
     },
     "execution_count": 17,
     "metadata": {},
     "output_type": "execute_result"
    }
   ],
   "source": [
    "scaler.fit(features_train[numeric])"
   ]
  },
  {
   "cell_type": "code",
   "execution_count": 18,
   "id": "78601a31",
   "metadata": {
    "scrolled": false
   },
   "outputs": [],
   "source": [
    "features_train[numeric] = scaler.transform(features_train[numeric])\n",
    "features_valid[numeric] = scaler.transform(features_valid[numeric])\n",
    "features_test[numeric] = scaler.transform(features_test[numeric])"
   ]
  },
  {
   "cell_type": "code",
   "execution_count": 19,
   "id": "5d43db87",
   "metadata": {},
   "outputs": [
    {
     "data": {
      "text/html": [
       "<div>\n",
       "<style scoped>\n",
       "    .dataframe tbody tr th:only-of-type {\n",
       "        vertical-align: middle;\n",
       "    }\n",
       "\n",
       "    .dataframe tbody tr th {\n",
       "        vertical-align: top;\n",
       "    }\n",
       "\n",
       "    .dataframe thead th {\n",
       "        text-align: right;\n",
       "    }\n",
       "</style>\n",
       "<table border=\"1\" class=\"dataframe\">\n",
       "  <thead>\n",
       "    <tr style=\"text-align: right;\">\n",
       "      <th></th>\n",
       "      <th>CreditScore</th>\n",
       "      <th>Age</th>\n",
       "      <th>Tenure</th>\n",
       "      <th>Balance</th>\n",
       "      <th>NumOfProducts</th>\n",
       "      <th>HasCrCard</th>\n",
       "      <th>IsActiveMember</th>\n",
       "      <th>EstimatedSalary</th>\n",
       "      <th>Geography_Germany</th>\n",
       "      <th>Geography_Spain</th>\n",
       "      <th>Gender_Male</th>\n",
       "    </tr>\n",
       "  </thead>\n",
       "  <tbody>\n",
       "    <tr>\n",
       "      <th>2837</th>\n",
       "      <td>-1.040434</td>\n",
       "      <td>0.953312</td>\n",
       "      <td>6.00000</td>\n",
       "      <td>0.774657</td>\n",
       "      <td>1</td>\n",
       "      <td>0</td>\n",
       "      <td>1</td>\n",
       "      <td>-0.119110</td>\n",
       "      <td>1</td>\n",
       "      <td>0</td>\n",
       "      <td>0</td>\n",
       "    </tr>\n",
       "    <tr>\n",
       "      <th>9925</th>\n",
       "      <td>0.454006</td>\n",
       "      <td>-0.095244</td>\n",
       "      <td>4.99769</td>\n",
       "      <td>1.910540</td>\n",
       "      <td>1</td>\n",
       "      <td>1</td>\n",
       "      <td>1</td>\n",
       "      <td>-0.258658</td>\n",
       "      <td>0</td>\n",
       "      <td>0</td>\n",
       "      <td>0</td>\n",
       "    </tr>\n",
       "    <tr>\n",
       "      <th>8746</th>\n",
       "      <td>0.103585</td>\n",
       "      <td>-0.476537</td>\n",
       "      <td>8.00000</td>\n",
       "      <td>0.481608</td>\n",
       "      <td>2</td>\n",
       "      <td>0</td>\n",
       "      <td>1</td>\n",
       "      <td>1.422836</td>\n",
       "      <td>0</td>\n",
       "      <td>0</td>\n",
       "      <td>1</td>\n",
       "    </tr>\n",
       "    <tr>\n",
       "      <th>660</th>\n",
       "      <td>-0.184996</td>\n",
       "      <td>0.190726</td>\n",
       "      <td>4.99769</td>\n",
       "      <td>0.088439</td>\n",
       "      <td>1</td>\n",
       "      <td>1</td>\n",
       "      <td>1</td>\n",
       "      <td>-1.160427</td>\n",
       "      <td>1</td>\n",
       "      <td>0</td>\n",
       "      <td>0</td>\n",
       "    </tr>\n",
       "    <tr>\n",
       "      <th>3610</th>\n",
       "      <td>-0.720933</td>\n",
       "      <td>1.620574</td>\n",
       "      <td>1.00000</td>\n",
       "      <td>0.879129</td>\n",
       "      <td>1</td>\n",
       "      <td>1</td>\n",
       "      <td>0</td>\n",
       "      <td>0.113236</td>\n",
       "      <td>0</td>\n",
       "      <td>0</td>\n",
       "      <td>0</td>\n",
       "    </tr>\n",
       "  </tbody>\n",
       "</table>\n",
       "</div>"
      ],
      "text/plain": [
       "      CreditScore       Age   Tenure   Balance  NumOfProducts  HasCrCard  \\\n",
       "2837    -1.040434  0.953312  6.00000  0.774657              1          0   \n",
       "9925     0.454006 -0.095244  4.99769  1.910540              1          1   \n",
       "8746     0.103585 -0.476537  8.00000  0.481608              2          0   \n",
       "660     -0.184996  0.190726  4.99769  0.088439              1          1   \n",
       "3610    -0.720933  1.620574  1.00000  0.879129              1          1   \n",
       "\n",
       "      IsActiveMember  EstimatedSalary  Geography_Germany  Geography_Spain  \\\n",
       "2837               1        -0.119110                  1                0   \n",
       "9925               1        -0.258658                  0                0   \n",
       "8746               1         1.422836                  0                0   \n",
       "660                1        -1.160427                  1                0   \n",
       "3610               0         0.113236                  0                0   \n",
       "\n",
       "      Gender_Male  \n",
       "2837            0  \n",
       "9925            0  \n",
       "8746            1  \n",
       "660             0  \n",
       "3610            0  "
      ]
     },
     "execution_count": 19,
     "metadata": {},
     "output_type": "execute_result"
    }
   ],
   "source": [
    "features_train.head()"
   ]
  },
  {
   "cell_type": "markdown",
   "id": "eec2a1cb",
   "metadata": {},
   "source": [
    "## Исследование задачи"
   ]
  },
  {
   "cell_type": "markdown",
   "id": "39c8a88c",
   "metadata": {},
   "source": [
    "Исследуем баланс классов."
   ]
  },
  {
   "cell_type": "code",
   "execution_count": 20,
   "id": "deab2979",
   "metadata": {},
   "outputs": [
    {
     "data": {
      "text/plain": [
       "0    0.796333\n",
       "1    0.203667\n",
       "Name: Exited, dtype: float64"
      ]
     },
     "execution_count": 20,
     "metadata": {},
     "output_type": "execute_result"
    }
   ],
   "source": [
    "target_train.value_counts(normalize = True)"
   ]
  },
  {
   "cell_type": "markdown",
   "id": "4920aba0",
   "metadata": {},
   "source": [
    "В наших данных явно больше 0. Сначала будем обучать модель без учета дисбаланса классов."
   ]
  },
  {
   "cell_type": "markdown",
   "id": "cc293a93",
   "metadata": {},
   "source": [
    "Будем обучать виды моделей для получения лучшего результата: дерево, случайный лес, логистическую регрессию."
   ]
  },
  {
   "cell_type": "markdown",
   "id": "166fbf97",
   "metadata": {},
   "source": [
    "Лес. Будем искать лучшую модель с разными гиперпараметрами: лубину, min_samples_split, min_samples_leaf."
   ]
  },
  {
   "cell_type": "code",
   "execution_count": 21,
   "id": "6f72b7b8",
   "metadata": {},
   "outputs": [],
   "source": [
    "n_estimators =  [int(x) for x in range(10, 50,10)]\n",
    "depth = [int(x) for x in range(3, 8)]\n",
    "min_samples_split = [2,3,4,5,6]\n",
    "min_samples_leaf = [1,2,3,4]"
   ]
  },
  {
   "cell_type": "code",
   "execution_count": 22,
   "id": "85febfc8",
   "metadata": {},
   "outputs": [],
   "source": [
    "rf_grif = {\n",
    "    'n_estimators':n_estimators,\n",
    "    'max_depth':depth,\n",
    "    'min_samples_split' : min_samples_split,\n",
    "    'min_samples_leaf': min_samples_leaf\n",
    "}\n",
    "model_forest_unb = GridSearchCV( estimator = RandomForestClassifier(),scoring = 'f1' ,param_grid = rf_grif, cv = 5)"
   ]
  },
  {
   "cell_type": "code",
   "execution_count": 23,
   "id": "f387d1c6",
   "metadata": {},
   "outputs": [
    {
     "data": {
      "text/plain": [
       "GridSearchCV(cv=5, estimator=RandomForestClassifier(),\n",
       "             param_grid={'max_depth': [3, 4, 5, 6, 7],\n",
       "                         'min_samples_leaf': [1, 2, 3, 4],\n",
       "                         'min_samples_split': [2, 3, 4, 5, 6],\n",
       "                         'n_estimators': [10, 20, 30, 40]},\n",
       "             scoring='f1')"
      ]
     },
     "execution_count": 23,
     "metadata": {},
     "output_type": "execute_result"
    }
   ],
   "source": [
    "model_forest_unb.fit(features_train, target_train)"
   ]
  },
  {
   "cell_type": "code",
   "execution_count": 24,
   "id": "8b8fde9f",
   "metadata": {},
   "outputs": [],
   "source": [
    "predictions_forest_unb = model_forest_unb.predict(features_valid)\n",
    "probabilities_forest_unb = model_forest_unb.predict_proba(features_valid)"
   ]
  },
  {
   "cell_type": "code",
   "execution_count": 25,
   "id": "0e3e21fc",
   "metadata": {
    "scrolled": false
   },
   "outputs": [
    {
     "name": "stdout",
     "output_type": "stream",
     "text": [
      "Модель леса без учета балансов классов:\n",
      "F1 =  0.5187601957585645\n",
      "AUC ROC 0.852988581802141\n"
     ]
    }
   ],
   "source": [
    "print('Модель леса без учета балансов классов:')\n",
    "print('F1 = ',f1_score(target_valid, predictions_forest_unb))\n",
    "print('AUC ROC', roc_auc_score(target_valid, probabilities_forest_unb[:,1]))"
   ]
  },
  {
   "cell_type": "markdown",
   "id": "f2ab8af7",
   "metadata": {},
   "source": [
    "Модель леса показала метрику f1 0,52 а auc_roc 0.85"
   ]
  },
  {
   "cell_type": "markdown",
   "id": "e83b7f3f",
   "metadata": {},
   "source": [
    "Дерево. Гиперпараметры буду менять вручную."
   ]
  },
  {
   "cell_type": "code",
   "execution_count": 26,
   "id": "98fc586a",
   "metadata": {},
   "outputs": [
    {
     "name": "stdout",
     "output_type": "stream",
     "text": [
      "0.5590433482810164\n"
     ]
    }
   ],
   "source": [
    "f_one_best = 0\n",
    "for min_samples_leaf in range (1,7):\n",
    "    for min_samples_split in range(2,12):\n",
    "        for depth in range(2, 12): \n",
    "            model_tree = DecisionTreeClassifier(max_depth = depth, random_state=12345, \n",
    "                                                min_samples_split = min_samples_split, min_samples_leaf = min_samples_leaf)\n",
    "            model_tree.fit(features_train, target_train)\n",
    "            predictions = model_tree.predict(features_valid)\n",
    "            f_one = f1_score(target_valid,predictions)\n",
    "            if f_one > f_one_best:\n",
    "                model_tree_best = model_tree\n",
    "                f_one_best = f_one \n",
    "print(f_one_best)            "
   ]
  },
  {
   "cell_type": "code",
   "execution_count": 27,
   "id": "24672fb5",
   "metadata": {
    "scrolled": true
   },
   "outputs": [
    {
     "name": "stdout",
     "output_type": "stream",
     "text": [
      "F1 =  0.5590433482810164\n",
      "AUC ROC = 0.7734082310353496\n"
     ]
    }
   ],
   "source": [
    "probabilities_tree_unb = model_tree.predict_proba(features_valid)\n",
    "predictions_tree_unb = model_tree_best.predict(features_valid)\n",
    "#print(,accuracy_score(target_valid, predictions))\n",
    "print('F1 = ',f_one_best)  \n",
    "print('AUC ROC =', roc_auc_score(target_valid, probabilities_tree_unb[:,1]))"
   ]
  },
  {
   "cell_type": "markdown",
   "id": "781c191e",
   "metadata": {},
   "source": [
    "Тут метрика f1 равна 0,559(все равно меньше чем нужно), AUC ROC 0.77/"
   ]
  },
  {
   "cell_type": "markdown",
   "id": "bb8f4686",
   "metadata": {},
   "source": [
    "Логистическая регрессия."
   ]
  },
  {
   "cell_type": "code",
   "execution_count": 28,
   "id": "98b59674",
   "metadata": {},
   "outputs": [
    {
     "name": "stdout",
     "output_type": "stream",
     "text": [
      "F1 =  0.5150214592274678\n",
      "AUC ROC = 0.7505209369616149\n"
     ]
    }
   ],
   "source": [
    "model_log_unb = LogisticRegression(random_state=12345) # class_weight='balanced')\n",
    "model_log_unb.fit(features_train, target_train)\n",
    "predictions_log = model_log_unb.predict(features_valid)\n",
    "probabilities_log_unb = model_log_unb.predict_proba(features_valid)\n",
    "f_one_log = f1_score(target_valid,predictions)\n",
    "print('F1 = ',f_one)\n",
    "print('AUC ROC =', roc_auc_score(target_valid, probabilities_log_unb[:,1]))"
   ]
  },
  {
   "cell_type": "markdown",
   "id": "08fc7679",
   "metadata": {},
   "source": [
    "Логистическая модель сработала быстрее всех. F1 = 0,51 а AUC ROC = 0.75"
   ]
  },
  {
   "cell_type": "markdown",
   "id": "b4901f92",
   "metadata": {},
   "source": [
    "Чет все плохо совсем. Ни одна модель не справилась с задачей f1 больше 0,59 на валидационной выборке. Лучше всех справился Лес, хуже всех. "
   ]
  },
  {
   "cell_type": "markdown",
   "id": "9c08ba8f",
   "metadata": {},
   "source": []
  },
  {
   "cell_type": "markdown",
   "id": "1c8564d7",
   "metadata": {},
   "source": [
    "## Борьба с дисбалансом"
   ]
  },
  {
   "cell_type": "markdown",
   "id": "36804a7e",
   "metadata": {},
   "source": [
    "Напомним, что до этого мы исследовали модели без учета дисбаланса классов. Проверим насколько все серьезно."
   ]
  },
  {
   "cell_type": "code",
   "execution_count": 29,
   "id": "25e0f6e3",
   "metadata": {
    "scrolled": true
   },
   "outputs": [
    {
     "data": {
      "text/plain": [
       "0    0.796333\n",
       "1    0.203667\n",
       "Name: Exited, dtype: float64"
      ]
     },
     "execution_count": 29,
     "metadata": {},
     "output_type": "execute_result"
    }
   ],
   "source": [
    "target_train.value_counts(normalize = True)"
   ]
  },
  {
   "cell_type": "markdown",
   "id": "70a05524",
   "metadata": {},
   "source": [
    "Единиц меньше в 4 раза. Разделим обучающую выборку и ответы на отдельные по классу ответа. Установим переменную repeat 4."
   ]
  },
  {
   "cell_type": "code",
   "execution_count": 30,
   "id": "b6991ff9",
   "metadata": {},
   "outputs": [],
   "source": [
    "features_zeros_train = features_train[target_train == 0]\n",
    "features_ones_train = features_train[target_train == 1]\n",
    "target_zeros_train = target_train[target_train == 0]\n",
    "target_ones_train = target_train[target_train == 1]"
   ]
  },
  {
   "cell_type": "code",
   "execution_count": 31,
   "id": "da7b1272",
   "metadata": {},
   "outputs": [],
   "source": [
    "repeat = 4"
   ]
  },
  {
   "cell_type": "markdown",
   "id": "8029f081",
   "metadata": {},
   "source": [
    "Увеличим единицы в четыре раза и соединим обратно обучающую выборку и ответы."
   ]
  },
  {
   "cell_type": "code",
   "execution_count": 32,
   "id": "f83f20ba",
   "metadata": {},
   "outputs": [],
   "source": [
    "features_upsampled = pd.concat([features_zeros_train] + [features_ones_train] * repeat)\n",
    "target_upsampled = pd.concat([target_zeros_train] + [target_ones_train] * repeat)"
   ]
  },
  {
   "cell_type": "markdown",
   "id": "a2f63d6f",
   "metadata": {},
   "source": [
    "Перемешаем и проверим что получилось."
   ]
  },
  {
   "cell_type": "code",
   "execution_count": 33,
   "id": "e3f0ad0f",
   "metadata": {},
   "outputs": [],
   "source": [
    "features_upsampled, target_upsampled = shuffle(features_upsampled, target_upsampled, random_state=12345)"
   ]
  },
  {
   "cell_type": "code",
   "execution_count": 34,
   "id": "4fe80363",
   "metadata": {},
   "outputs": [
    {
     "data": {
      "text/plain": [
       "1    0.50569\n",
       "0    0.49431\n",
       "Name: Exited, dtype: float64"
      ]
     },
     "execution_count": 34,
     "metadata": {},
     "output_type": "execute_result"
    }
   ],
   "source": [
    "target_upsampled.value_counts(normalize = True)"
   ]
  },
  {
   "cell_type": "markdown",
   "id": "f6a2b576",
   "metadata": {},
   "source": [
    "Теперь приступим к обучению и исследованию моделей."
   ]
  },
  {
   "cell_type": "markdown",
   "id": "f385c16c",
   "metadata": {},
   "source": [
    "Про SMOTE: https://machinelearningmastery.com/smote-oversampling-for-imbalanced-classification/"
   ]
  },
  {
   "cell_type": "markdown",
   "id": "2d192421",
   "metadata": {},
   "source": [
    "Дерево решений. "
   ]
  },
  {
   "cell_type": "code",
   "execution_count": 35,
   "id": "0cb252d9",
   "metadata": {},
   "outputs": [
    {
     "name": "stdout",
     "output_type": "stream",
     "text": [
      "F1 =  0.5548504079782411\n"
     ]
    }
   ],
   "source": [
    "f_one_best = 0\n",
    "for min_samples_leaf in range (1,7):\n",
    "    for min_samples_split in range(2,12):\n",
    "        for depth in range(2, 12): \n",
    "            model_tree = DecisionTreeClassifier(max_depth = depth, random_state=12345, \n",
    "                                                min_samples_split = min_samples_split, min_samples_leaf = min_samples_leaf)\n",
    "            model_tree.fit(features_upsampled, target_upsampled)\n",
    "            predictions = model_tree.predict(features_valid)\n",
    "            f_one = f1_score(target_valid,predictions)\n",
    "            accurasy = accuracy_score(target_valid, predictions)\n",
    "            if f_one > f_one_best:\n",
    "                model_tree_best = model_tree\n",
    "                f_one_best = f_one \n",
    "print('F1 = ',f_one_best)  "
   ]
  },
  {
   "cell_type": "code",
   "execution_count": 36,
   "id": "bbe84df9",
   "metadata": {},
   "outputs": [
    {
     "name": "stdout",
     "output_type": "stream",
     "text": [
      "accuracy =  0.7545\n",
      "AUC ROC = 0.8063888233379759\n"
     ]
    }
   ],
   "source": [
    "predictions = model_tree_best.predict(features_valid)\n",
    "accurasy = accuracy_score(target_valid, predictions)\n",
    "print('accuracy = ', accurasy)\n",
    "probabilities_tree_b = model_tree_best.predict_proba(features_valid)\n",
    "print('AUC ROC =', roc_auc_score(target_valid, probabilities_tree_b[:,1]))"
   ]
  },
  {
   "cell_type": "markdown",
   "id": "13dab276",
   "metadata": {},
   "source": [
    "Вывод: для дерева решений f1 осталась примерно такой же, а вот accuracy стала ниже. AUC ROC тоже немного увеличилась"
   ]
  },
  {
   "cell_type": "markdown",
   "id": "4e5b58de",
   "metadata": {},
   "source": [
    "Случайный лес."
   ]
  },
  {
   "cell_type": "code",
   "execution_count": 37,
   "id": "d568b41a",
   "metadata": {},
   "outputs": [
    {
     "name": "stdout",
     "output_type": "stream",
     "text": [
      "F1 =  0.6121076233183856\n"
     ]
    }
   ],
   "source": [
    "f_one_best = 0\n",
    "for est in range(50, 91, 10):\n",
    "    for min_samples_split in range(2,12):\n",
    "        for depth in range(2, 12): \n",
    "            model_forest = RandomForestClassifier(max_depth = depth, random_state=12345, \n",
    "                                                    min_samples_split = min_samples_split,\n",
    "                                                     n_estimators = est)\n",
    "            model_forest.fit(features_upsampled, target_upsampled)\n",
    "            predictions = model_forest.predict(features_valid)\n",
    "            f_one = f1_score(target_valid, predictions)\n",
    "            accurasy = accuracy_score(target_valid, predictions)\n",
    "            if f_one > f_one_best:\n",
    "                model_forest_best = model_forest\n",
    "                f_one_best = f_one \n",
    "print('F1 = ',f_one_best)   "
   ]
  },
  {
   "cell_type": "code",
   "execution_count": 38,
   "id": "d09e7d7a",
   "metadata": {},
   "outputs": [
    {
     "name": "stdout",
     "output_type": "stream",
     "text": [
      "auc_roc =  0.8529515648159716\n"
     ]
    }
   ],
   "source": [
    "probabilities_valid = model_forest_best.predict_proba(features_valid)\n",
    "probabilities_one_valid = probabilities_valid[:, 1]\n",
    "auc_roc = roc_auc_score(target_valid, probabilities_one_valid)\n",
    "print('auc_roc = ', auc_roc)"
   ]
  },
  {
   "cell_type": "markdown",
   "id": "89bc92e5",
   "metadata": {},
   "source": [
    "Уже гораздо лучше получилось! Без балансов классов было 0,52. А тут 0,61. Посмотрим на accurasy."
   ]
  },
  {
   "cell_type": "code",
   "execution_count": 39,
   "id": "6151af5f",
   "metadata": {},
   "outputs": [
    {
     "name": "stdout",
     "output_type": "stream",
     "text": [
      "accuracy =  0.827\n"
     ]
    }
   ],
   "source": [
    "predictions = model_forest_best.predict(features_valid)\n",
    "accurasy = accuracy_score(target_valid, predictions)\n",
    "print('accuracy = ', accurasy)"
   ]
  },
  {
   "cell_type": "markdown",
   "id": "380bb212",
   "metadata": {},
   "source": [
    "Логистическая регрессия."
   ]
  },
  {
   "cell_type": "code",
   "execution_count": 40,
   "id": "120d7ee5",
   "metadata": {},
   "outputs": [
    {
     "name": "stdout",
     "output_type": "stream",
     "text": [
      "F1 =  0.47822374039282667\n",
      "accuracy =  0.6945\n"
     ]
    }
   ],
   "source": [
    "model_log_2 = LogisticRegression(random_state=12345)\n",
    "model_log_2.fit(features_upsampled, target_upsampled)\n",
    "predictions = model_log_2.predict(features_valid)\n",
    "f_one = f1_score(target_valid,predictions)\n",
    "print('F1 = ',f_one)\n",
    "print('accuracy = ' , accuracy_score(target_valid, predictions))"
   ]
  },
  {
   "cell_type": "markdown",
   "id": "133aac83",
   "metadata": {},
   "source": [
    "Данные лучше гораздо лучше, но все же не дотягивает до 0,59."
   ]
  },
  {
   "cell_type": "code",
   "execution_count": 41,
   "id": "4423a4e6",
   "metadata": {},
   "outputs": [
    {
     "name": "stdout",
     "output_type": "stream",
     "text": [
      "[[0.19259375 0.80740625]\n",
      " [0.90501781 0.09498219]\n",
      " [0.41752317 0.58247683]\n",
      " ...\n",
      " [0.4837729  0.5162271 ]\n",
      " [0.85368053 0.14631947]\n",
      " [0.84786981 0.15213019]]\n"
     ]
    }
   ],
   "source": [
    "probabilities = model_log_2.predict_proba(features_valid) \n",
    "print(probabilities)\n",
    "probabilities_one_valid = probabilities[:, 1]"
   ]
  },
  {
   "cell_type": "code",
   "execution_count": 42,
   "id": "53a27955",
   "metadata": {},
   "outputs": [
    {
     "name": "stdout",
     "output_type": "stream",
     "text": [
      "auc_roc 0.7541809914691271\n"
     ]
    }
   ],
   "source": [
    "fpr, tpr, thresholds = roc_curve(target_valid, probabilities_one_valid) \n",
    "auc_roc = roc_auc_score(target_valid, probabilities_one_valid)\n",
    "print('auc_roc', auc_roc)"
   ]
  },
  {
   "cell_type": "markdown",
   "id": "5cdcc3b5",
   "metadata": {},
   "source": [
    "Вывод есть: лучшая модель это Случайный Лес. Самые хорошие показатели. "
   ]
  },
  {
   "cell_type": "markdown",
   "id": "4eae7e75",
   "metadata": {},
   "source": [
    "## Тестирование модели"
   ]
  },
  {
   "cell_type": "markdown",
   "id": "7ca4d39b",
   "metadata": {},
   "source": [
    "И наконец протестируем нашу модель. Будем запускать Случайный лес и просмортим все метрики, что у нас есть. features_test, target_test - данные для тестирования."
   ]
  },
  {
   "cell_type": "code",
   "execution_count": 43,
   "id": "080a4a3c",
   "metadata": {},
   "outputs": [],
   "source": [
    "predict_test = model_forest_best.predict(features_test)\n",
    "probabilities_test = model_forest_best.predict_proba(features_test) "
   ]
  },
  {
   "cell_type": "code",
   "execution_count": 44,
   "id": "bb0ac200",
   "metadata": {},
   "outputs": [],
   "source": [
    "f1_test = f1_score(target_test, predict_test)\n",
    "auc_roc_test = roc_auc_score(target_test, probabilities_test[:,1])\n",
    "accuracy_test = accuracy_score(target_test, predict_test)\n",
    "recall_test = recall_score(target_test, predict_test)\n",
    "pres_test = precision_score(target_test, predict_test)"
   ]
  },
  {
   "cell_type": "code",
   "execution_count": 45,
   "id": "119c9c65",
   "metadata": {},
   "outputs": [
    {
     "name": "stdout",
     "output_type": "stream",
     "text": [
      "лучшая модель:\n",
      "F1 =  0.6369710467706012\n",
      "auc_roc =  0.8689972534239827\n",
      "accuracy =  0.837\n",
      "recall_test =  0.7009803921568627\n",
      "pres_test =  0.5836734693877551\n"
     ]
    }
   ],
   "source": [
    "print('лучшая модель:')\n",
    "print('F1 = ', f1_test)\n",
    "print('auc_roc = ', auc_roc_test)\n",
    "print('accuracy = ', accuracy_test)\n",
    "print('recall_test = ', recall_test)\n",
    "print('pres_test = ', pres_test)"
   ]
  },
  {
   "cell_type": "markdown",
   "id": "88343013",
   "metadata": {},
   "source": [
    "Вывод: модель случайного леса показала хороший результат. Мера F1 0,63 - что даже лучше, чем была на валидационной выборке. Метрика AUC ROC 0,83."
   ]
  },
  {
   "cell_type": "code",
   "execution_count": 46,
   "id": "d55aee08",
   "metadata": {},
   "outputs": [],
   "source": [
    "predict_test_tree = model_tree_best.predict(features_test)\n",
    "probabilities_test = model_tree_best.predict_proba(features_test)\n",
    "probabilities_test = model_tree_best.predict_proba(features_test) "
   ]
  },
  {
   "cell_type": "code",
   "execution_count": 47,
   "id": "127a483a",
   "metadata": {},
   "outputs": [],
   "source": [
    "f1_test = f1_score(target_test, predict_test_tree)\n",
    "auc_roc_test = roc_auc_score(target_test, probabilities_test[:,1])\n",
    "accuracy_test = accuracy_score(target_test, predict_test_tree)\n",
    "recall_test = recall_score(target_test, predict_test_tree)\n",
    "pres_test = precision_score(target_test, predict_test_tree)"
   ]
  },
  {
   "cell_type": "code",
   "execution_count": 48,
   "id": "896a5f5f",
   "metadata": {},
   "outputs": [
    {
     "name": "stdout",
     "output_type": "stream",
     "text": [
      "дерево:\n",
      "F1 =  0.5765765765765766\n",
      "auc_roc =  0.8234093260419746\n",
      "accuracy =  0.765\n",
      "recall_test =  0.7843137254901961\n",
      "pres_test =  0.45584045584045585\n"
     ]
    }
   ],
   "source": [
    "print('дерево:')\n",
    "print('F1 = ', f1_test)\n",
    "print('auc_roc = ', auc_roc_test)\n",
    "print('accuracy = ', accuracy_test)\n",
    "print('recall_test = ', recall_test)\n",
    "print('pres_test = ', pres_test)"
   ]
  },
  {
   "cell_type": "markdown",
   "id": "f3fc28f7",
   "metadata": {},
   "source": [
    "Вывод: Лучшая модель получилась случайного леса, но она и медленнее работает."
   ]
  },
  {
   "cell_type": "markdown",
   "id": "d55339f9",
   "metadata": {},
   "source": [
    "## Чек-лист готовности проекта"
   ]
  },
  {
   "cell_type": "markdown",
   "id": "0795d2e8",
   "metadata": {},
   "source": [
    "Поставьте 'x' в выполненных пунктах. Далее нажмите Shift+Enter."
   ]
  },
  {
   "cell_type": "markdown",
   "id": "1c7c5601",
   "metadata": {},
   "source": [
    "- [x]  Jupyter Notebook открыт\n",
    "- [x]  Весь код выполняется без ошибок\n",
    "- [x]  Ячейки с кодом расположены в порядке исполнения\n",
    "- [x]  Выполнен шаг 1: данные подготовлены\n",
    "- [x]  Выполнен шаг 2: задача исследована\n",
    "    - [x]  Исследован баланс классов\n",
    "    - [x]  Изучены модели без учёта дисбаланса\n",
    "    - [x]  Написаны выводы по результатам исследования\n",
    "- [x]  Выполнен шаг 3: учтён дисбаланс\n",
    "    - [x]  Применено несколько способов борьбы с дисбалансом\n",
    "    - [x]  Написаны выводы по результатам исследования\n",
    "- [x]  Выполнен шаг 4: проведено тестирование\n",
    "- [x]  Удалось достичь *F1*-меры не менее 0.59\n",
    "- [x]  Исследована метрика *AUC-ROC*"
   ]
  }
 ],
 "metadata": {
  "ExecuteTimeLog": [
   {
    "duration": 6208,
    "start_time": "2022-04-18T19:30:01.739Z"
   },
   {
    "duration": 34,
    "start_time": "2022-04-18T19:30:07.950Z"
   },
   {
    "duration": 19,
    "start_time": "2022-04-18T19:30:07.986Z"
   },
   {
    "duration": 42,
    "start_time": "2022-04-18T19:30:08.007Z"
   },
   {
    "duration": 55,
    "start_time": "2022-04-18T19:30:08.051Z"
   },
   {
    "duration": 5,
    "start_time": "2022-04-18T19:30:08.108Z"
   },
   {
    "duration": 39,
    "start_time": "2022-04-18T19:30:08.115Z"
   },
   {
    "duration": 4,
    "start_time": "2022-04-18T19:30:08.156Z"
   },
   {
    "duration": 12,
    "start_time": "2022-04-18T19:30:08.163Z"
   },
   {
    "duration": 11,
    "start_time": "2022-04-18T19:30:08.177Z"
   },
   {
    "duration": 12,
    "start_time": "2022-04-18T19:30:08.190Z"
   },
   {
    "duration": 74,
    "start_time": "2022-04-18T19:30:08.204Z"
   },
   {
    "duration": 3,
    "start_time": "2022-04-18T19:30:08.279Z"
   },
   {
    "duration": 11,
    "start_time": "2022-04-18T19:30:08.284Z"
   },
   {
    "duration": 9,
    "start_time": "2022-04-18T19:30:08.296Z"
   },
   {
    "duration": 19,
    "start_time": "2022-04-18T19:30:08.306Z"
   },
   {
    "duration": 21,
    "start_time": "2022-04-18T19:30:08.327Z"
   },
   {
    "duration": 15,
    "start_time": "2022-04-18T19:30:08.350Z"
   },
   {
    "duration": 19,
    "start_time": "2022-04-18T19:30:08.367Z"
   },
   {
    "duration": 9,
    "start_time": "2022-04-18T19:30:17.603Z"
   },
   {
    "duration": 6,
    "start_time": "2022-04-18T19:30:25.432Z"
   },
   {
    "duration": 7,
    "start_time": "2022-04-18T19:30:26.325Z"
   },
   {
    "duration": 3,
    "start_time": "2022-04-18T19:30:26.646Z"
   },
   {
    "duration": 6,
    "start_time": "2022-04-18T19:30:28.141Z"
   },
   {
    "duration": 6,
    "start_time": "2022-04-18T19:30:28.949Z"
   },
   {
    "duration": 6,
    "start_time": "2022-04-18T19:30:29.378Z"
   },
   {
    "duration": 13134,
    "start_time": "2022-04-18T19:30:44.205Z"
   },
   {
    "duration": 11,
    "start_time": "2022-04-18T19:30:57.341Z"
   },
   {
    "duration": 8,
    "start_time": "2022-04-18T19:32:08.760Z"
   },
   {
    "duration": 6,
    "start_time": "2022-04-18T19:32:22.413Z"
   },
   {
    "duration": 9,
    "start_time": "2022-04-18T19:32:25.489Z"
   },
   {
    "duration": 4,
    "start_time": "2022-04-18T19:32:29.028Z"
   },
   {
    "duration": 4,
    "start_time": "2022-04-18T19:34:20.781Z"
   },
   {
    "duration": 4,
    "start_time": "2022-04-18T19:34:21.251Z"
   },
   {
    "duration": 70601,
    "start_time": "2022-04-18T19:34:24.210Z"
   },
   {
    "duration": 0,
    "start_time": "2022-04-18T19:35:34.813Z"
   },
   {
    "duration": 14,
    "start_time": "2022-04-18T19:35:38.989Z"
   },
   {
    "duration": 3,
    "start_time": "2022-04-18T19:36:06.149Z"
   },
   {
    "duration": 158227,
    "start_time": "2022-04-18T19:36:06.683Z"
   },
   {
    "duration": 16,
    "start_time": "2022-04-18T19:38:44.912Z"
   },
   {
    "duration": 16,
    "start_time": "2022-04-18T19:39:06.443Z"
   },
   {
    "duration": 24,
    "start_time": "2022-04-18T19:39:11.943Z"
   },
   {
    "duration": 7,
    "start_time": "2022-04-18T19:39:55.573Z"
   },
   {
    "duration": 21,
    "start_time": "2022-04-18T19:39:59.848Z"
   },
   {
    "duration": 154,
    "start_time": "2022-04-18T19:46:20.203Z"
   },
   {
    "duration": 29,
    "start_time": "2022-04-18T19:46:40.819Z"
   },
   {
    "duration": 4,
    "start_time": "2022-04-18T19:46:58.108Z"
   },
   {
    "duration": 3,
    "start_time": "2022-04-18T19:47:26.203Z"
   },
   {
    "duration": 18,
    "start_time": "2022-04-18T19:47:35.758Z"
   },
   {
    "duration": 14,
    "start_time": "2022-04-18T19:48:21.979Z"
   },
   {
    "duration": 11,
    "start_time": "2022-04-18T19:48:25.060Z"
   },
   {
    "duration": 14,
    "start_time": "2022-04-18T19:48:29.134Z"
   },
   {
    "duration": 1095,
    "start_time": "2022-04-19T09:19:28.905Z"
   },
   {
    "duration": 29,
    "start_time": "2022-04-19T09:19:30.003Z"
   },
   {
    "duration": 12,
    "start_time": "2022-04-19T09:19:30.033Z"
   },
   {
    "duration": 17,
    "start_time": "2022-04-19T09:19:30.047Z"
   },
   {
    "duration": 33,
    "start_time": "2022-04-19T09:19:30.066Z"
   },
   {
    "duration": 3,
    "start_time": "2022-04-19T09:19:30.101Z"
   },
   {
    "duration": 10,
    "start_time": "2022-04-19T09:19:30.124Z"
   },
   {
    "duration": 11,
    "start_time": "2022-04-19T09:19:30.136Z"
   },
   {
    "duration": 15,
    "start_time": "2022-04-19T09:19:30.149Z"
   },
   {
    "duration": 15,
    "start_time": "2022-04-19T09:19:30.166Z"
   },
   {
    "duration": 13,
    "start_time": "2022-04-19T09:19:30.182Z"
   },
   {
    "duration": 44,
    "start_time": "2022-04-19T09:19:30.196Z"
   },
   {
    "duration": 3,
    "start_time": "2022-04-19T09:19:30.241Z"
   },
   {
    "duration": 14,
    "start_time": "2022-04-19T09:19:30.245Z"
   },
   {
    "duration": 9,
    "start_time": "2022-04-19T09:19:30.260Z"
   },
   {
    "duration": 20,
    "start_time": "2022-04-19T09:19:30.270Z"
   },
   {
    "duration": 7,
    "start_time": "2022-04-19T09:19:30.292Z"
   },
   {
    "duration": 24,
    "start_time": "2022-04-19T09:19:30.300Z"
   },
   {
    "duration": 9,
    "start_time": "2022-04-19T09:19:30.325Z"
   },
   {
    "duration": 19,
    "start_time": "2022-04-19T09:19:30.336Z"
   },
   {
    "duration": 4,
    "start_time": "2022-04-19T09:19:30.356Z"
   },
   {
    "duration": 11,
    "start_time": "2022-04-19T09:19:30.361Z"
   },
   {
    "duration": 159704,
    "start_time": "2022-04-19T09:19:30.374Z"
   },
   {
    "duration": 9,
    "start_time": "2022-04-19T09:22:10.080Z"
   },
   {
    "duration": 4,
    "start_time": "2022-04-19T09:22:10.091Z"
   },
   {
    "duration": 9872,
    "start_time": "2022-04-19T09:22:10.097Z"
   },
   {
    "duration": 6,
    "start_time": "2022-04-19T09:22:19.970Z"
   },
   {
    "duration": 346,
    "start_time": "2022-04-19T09:22:19.979Z"
   },
   {
    "duration": 6,
    "start_time": "2022-04-19T09:22:20.327Z"
   },
   {
    "duration": 7,
    "start_time": "2022-04-19T09:22:20.424Z"
   },
   {
    "duration": 3,
    "start_time": "2022-04-19T09:22:20.432Z"
   },
   {
    "duration": 6,
    "start_time": "2022-04-19T09:22:20.437Z"
   },
   {
    "duration": 7,
    "start_time": "2022-04-19T09:22:20.444Z"
   },
   {
    "duration": 6,
    "start_time": "2022-04-19T09:22:20.453Z"
   },
   {
    "duration": 15003,
    "start_time": "2022-04-19T09:22:20.461Z"
   },
   {
    "duration": 6,
    "start_time": "2022-04-19T09:22:35.467Z"
   },
   {
    "duration": 214541,
    "start_time": "2022-04-19T09:22:35.475Z"
   },
   {
    "duration": 37,
    "start_time": "2022-04-19T09:26:10.017Z"
   },
   {
    "duration": 31,
    "start_time": "2022-04-19T09:26:10.056Z"
   },
   {
    "duration": 244,
    "start_time": "2022-04-19T09:26:10.089Z"
   },
   {
    "duration": 7,
    "start_time": "2022-04-19T09:26:10.425Z"
   },
   {
    "duration": 7,
    "start_time": "2022-04-19T09:26:10.525Z"
   },
   {
    "duration": 154,
    "start_time": "2022-04-19T09:26:10.533Z"
   },
   {
    "duration": 11,
    "start_time": "2022-04-19T09:26:10.689Z"
   },
   {
    "duration": 6,
    "start_time": "2022-04-19T09:26:10.701Z"
   },
   {
    "duration": 22,
    "start_time": "2022-04-19T09:26:10.708Z"
   },
   {
    "duration": 10,
    "start_time": "2022-04-19T09:26:10.731Z"
   },
   {
    "duration": 8,
    "start_time": "2022-04-19T09:26:10.742Z"
   },
   {
    "duration": 1768,
    "start_time": "2022-04-20T10:45:01.879Z"
   },
   {
    "duration": 63,
    "start_time": "2022-04-20T10:45:03.649Z"
   },
   {
    "duration": 25,
    "start_time": "2022-04-20T10:45:03.715Z"
   },
   {
    "duration": 40,
    "start_time": "2022-04-20T10:45:03.742Z"
   },
   {
    "duration": 72,
    "start_time": "2022-04-20T10:45:03.786Z"
   },
   {
    "duration": 6,
    "start_time": "2022-04-20T10:45:03.863Z"
   },
   {
    "duration": 32,
    "start_time": "2022-04-20T10:45:03.880Z"
   },
   {
    "duration": 6,
    "start_time": "2022-04-20T10:45:03.915Z"
   },
   {
    "duration": 45,
    "start_time": "2022-04-20T10:45:03.924Z"
   },
   {
    "duration": 22,
    "start_time": "2022-04-20T10:45:03.973Z"
   },
   {
    "duration": 17,
    "start_time": "2022-04-20T10:45:03.998Z"
   },
   {
    "duration": 95,
    "start_time": "2022-04-20T10:45:04.018Z"
   },
   {
    "duration": 4,
    "start_time": "2022-04-20T10:45:04.115Z"
   },
   {
    "duration": 7,
    "start_time": "2022-04-20T10:45:04.124Z"
   },
   {
    "duration": 26,
    "start_time": "2022-04-20T10:45:04.134Z"
   },
   {
    "duration": 43,
    "start_time": "2022-04-20T10:45:04.162Z"
   },
   {
    "duration": 12,
    "start_time": "2022-04-20T10:45:04.207Z"
   },
   {
    "duration": 31,
    "start_time": "2022-04-20T10:45:04.222Z"
   },
   {
    "duration": 32,
    "start_time": "2022-04-20T10:45:04.255Z"
   },
   {
    "duration": 38,
    "start_time": "2022-04-20T10:45:04.289Z"
   },
   {
    "duration": 12,
    "start_time": "2022-04-20T10:45:04.329Z"
   },
   {
    "duration": 37,
    "start_time": "2022-04-20T10:45:04.343Z"
   },
   {
    "duration": 286108,
    "start_time": "2022-04-20T10:45:04.383Z"
   },
   {
    "duration": 20,
    "start_time": "2022-04-20T10:49:50.494Z"
   },
   {
    "duration": 16,
    "start_time": "2022-04-20T10:49:50.516Z"
   },
   {
    "duration": 17217,
    "start_time": "2022-04-20T10:49:50.534Z"
   },
   {
    "duration": 57,
    "start_time": "2022-04-20T10:50:07.758Z"
   },
   {
    "duration": 1352,
    "start_time": "2022-04-20T10:50:07.833Z"
   },
   {
    "duration": 72,
    "start_time": "2022-04-20T10:50:09.190Z"
   },
   {
    "duration": 120,
    "start_time": "2022-04-20T10:50:09.265Z"
   },
   {
    "duration": 4,
    "start_time": "2022-04-20T10:50:09.389Z"
   },
   {
    "duration": 16,
    "start_time": "2022-04-20T10:50:09.396Z"
   },
   {
    "duration": 11,
    "start_time": "2022-04-20T10:50:09.415Z"
   },
   {
    "duration": 10,
    "start_time": "2022-04-20T10:50:09.428Z"
   },
   {
    "duration": 25626,
    "start_time": "2022-04-20T10:50:09.440Z"
   },
   {
    "duration": 11,
    "start_time": "2022-04-20T10:50:35.069Z"
   },
   {
    "duration": 392053,
    "start_time": "2022-04-20T10:50:35.083Z"
   },
   {
    "duration": 73,
    "start_time": "2022-04-20T10:57:07.139Z"
   },
   {
    "duration": 89,
    "start_time": "2022-04-20T10:57:07.215Z"
   },
   {
    "duration": 1052,
    "start_time": "2022-04-20T10:57:07.307Z"
   },
   {
    "duration": 75,
    "start_time": "2022-04-20T10:57:08.398Z"
   },
   {
    "duration": 127,
    "start_time": "2022-04-20T10:57:08.494Z"
   },
   {
    "duration": 142,
    "start_time": "2022-04-20T10:57:08.624Z"
   },
   {
    "duration": 22,
    "start_time": "2022-04-20T10:57:08.769Z"
   },
   {
    "duration": 36,
    "start_time": "2022-04-20T10:57:08.794Z"
   },
   {
    "duration": 13,
    "start_time": "2022-04-20T10:57:08.832Z"
   },
   {
    "duration": 49,
    "start_time": "2022-04-20T10:57:08.871Z"
   },
   {
    "duration": 8,
    "start_time": "2022-04-20T10:57:08.922Z"
   },
   {
    "duration": 1021,
    "start_time": "2022-04-20T16:48:10.345Z"
   },
   {
    "duration": 1068,
    "start_time": "2022-04-20T16:48:18.504Z"
   },
   {
    "duration": 22,
    "start_time": "2022-04-20T16:48:19.573Z"
   },
   {
    "duration": 11,
    "start_time": "2022-04-20T16:48:19.596Z"
   },
   {
    "duration": 20,
    "start_time": "2022-04-20T16:48:19.609Z"
   },
   {
    "duration": 33,
    "start_time": "2022-04-20T16:48:19.630Z"
   },
   {
    "duration": 3,
    "start_time": "2022-04-20T16:48:19.665Z"
   },
   {
    "duration": 14,
    "start_time": "2022-04-20T16:48:19.670Z"
   },
   {
    "duration": 4,
    "start_time": "2022-04-20T16:48:19.686Z"
   },
   {
    "duration": 32,
    "start_time": "2022-04-20T16:48:19.692Z"
   },
   {
    "duration": 9,
    "start_time": "2022-04-20T16:48:19.728Z"
   },
   {
    "duration": 9,
    "start_time": "2022-04-20T16:48:19.739Z"
   },
   {
    "duration": 34,
    "start_time": "2022-04-20T16:48:19.749Z"
   },
   {
    "duration": 3,
    "start_time": "2022-04-20T16:48:19.784Z"
   },
   {
    "duration": 5,
    "start_time": "2022-04-20T16:48:19.788Z"
   },
   {
    "duration": 4,
    "start_time": "2022-04-20T16:48:19.823Z"
   },
   {
    "duration": 11,
    "start_time": "2022-04-20T16:48:19.829Z"
   },
   {
    "duration": 8,
    "start_time": "2022-04-20T16:48:19.842Z"
   },
   {
    "duration": 18,
    "start_time": "2022-04-20T16:48:19.852Z"
   },
   {
    "duration": 10,
    "start_time": "2022-04-20T16:48:19.872Z"
   },
   {
    "duration": 8,
    "start_time": "2022-04-20T16:48:19.883Z"
   },
   {
    "duration": 31,
    "start_time": "2022-04-20T16:48:19.893Z"
   },
   {
    "duration": 5,
    "start_time": "2022-04-20T16:48:19.926Z"
   },
   {
    "duration": 155217,
    "start_time": "2022-04-20T16:48:19.933Z"
   },
   {
    "duration": 11,
    "start_time": "2022-04-20T16:50:55.152Z"
   },
   {
    "duration": 5,
    "start_time": "2022-04-20T16:50:55.164Z"
   },
   {
    "duration": 10019,
    "start_time": "2022-04-20T16:50:55.170Z"
   },
   {
    "duration": 5,
    "start_time": "2022-04-20T16:51:05.191Z"
   },
   {
    "duration": 426,
    "start_time": "2022-04-20T16:51:05.199Z"
   },
   {
    "duration": 94,
    "start_time": "2022-04-20T16:51:05.631Z"
   },
   {
    "duration": 13,
    "start_time": "2022-04-20T16:51:05.726Z"
   },
   {
    "duration": 6,
    "start_time": "2022-04-20T16:51:05.740Z"
   },
   {
    "duration": 8,
    "start_time": "2022-04-20T16:51:05.748Z"
   },
   {
    "duration": 6,
    "start_time": "2022-04-20T16:51:05.757Z"
   },
   {
    "duration": 6,
    "start_time": "2022-04-20T16:51:05.764Z"
   },
   {
    "duration": 12383,
    "start_time": "2022-04-20T16:51:05.771Z"
   },
   {
    "duration": 5,
    "start_time": "2022-04-20T16:51:18.155Z"
   },
   {
    "duration": 179817,
    "start_time": "2022-04-20T16:51:18.162Z"
   },
   {
    "duration": 31,
    "start_time": "2022-04-20T16:54:17.980Z"
   },
   {
    "duration": 27,
    "start_time": "2022-04-20T16:54:18.023Z"
   },
   {
    "duration": 272,
    "start_time": "2022-04-20T16:54:18.052Z"
   },
   {
    "duration": 6,
    "start_time": "2022-04-20T16:54:18.326Z"
   },
   {
    "duration": 96,
    "start_time": "2022-04-20T16:54:18.428Z"
   },
   {
    "duration": 67,
    "start_time": "2022-04-20T16:54:18.526Z"
   },
   {
    "duration": 9,
    "start_time": "2022-04-20T16:54:18.595Z"
   },
   {
    "duration": 18,
    "start_time": "2022-04-20T16:54:18.605Z"
   },
   {
    "duration": 19,
    "start_time": "2022-04-20T16:54:18.624Z"
   },
   {
    "duration": 21,
    "start_time": "2022-04-20T16:54:18.645Z"
   },
   {
    "duration": 19,
    "start_time": "2022-04-20T16:54:18.667Z"
   },
   {
    "duration": 4,
    "start_time": "2022-04-20T17:24:26.707Z"
   },
   {
    "duration": 4,
    "start_time": "2022-04-20T17:24:27.368Z"
   },
   {
    "duration": 3,
    "start_time": "2022-04-20T17:24:50.958Z"
   },
   {
    "duration": 4,
    "start_time": "2022-04-20T17:24:51.312Z"
   },
   {
    "duration": 4,
    "start_time": "2022-04-20T17:25:07.247Z"
   },
   {
    "duration": 5,
    "start_time": "2022-04-20T17:25:08.147Z"
   },
   {
    "duration": 68,
    "start_time": "2022-04-20T17:42:35.469Z"
   },
   {
    "duration": 95,
    "start_time": "2022-04-20T17:48:15.882Z"
   },
   {
    "duration": 4,
    "start_time": "2022-04-20T17:48:31.070Z"
   },
   {
    "duration": 9,
    "start_time": "2022-04-20T17:48:32.475Z"
   },
   {
    "duration": 8,
    "start_time": "2022-04-20T17:52:08.305Z"
   },
   {
    "duration": 10,
    "start_time": "2022-04-20T17:52:09.125Z"
   },
   {
    "duration": 6,
    "start_time": "2022-04-20T17:52:17.900Z"
   },
   {
    "duration": 24,
    "start_time": "2022-04-20T17:52:31.348Z"
   },
   {
    "duration": 6,
    "start_time": "2022-04-20T17:52:45.930Z"
   },
   {
    "duration": 7,
    "start_time": "2022-04-20T17:52:48.942Z"
   },
   {
    "duration": 10064,
    "start_time": "2022-04-20T18:06:28.922Z"
   },
   {
    "duration": 5,
    "start_time": "2022-04-20T18:06:38.988Z"
   },
   {
    "duration": 329,
    "start_time": "2022-04-20T18:06:38.995Z"
   },
   {
    "duration": 97,
    "start_time": "2022-04-20T18:06:39.328Z"
   },
   {
    "duration": 8,
    "start_time": "2022-04-20T18:06:39.427Z"
   },
   {
    "duration": 3,
    "start_time": "2022-04-20T18:06:39.437Z"
   },
   {
    "duration": 9,
    "start_time": "2022-04-20T18:06:39.442Z"
   },
   {
    "duration": 6,
    "start_time": "2022-04-20T18:06:39.453Z"
   },
   {
    "duration": 6,
    "start_time": "2022-04-20T18:06:39.461Z"
   },
   {
    "duration": 13477,
    "start_time": "2022-04-20T18:06:39.470Z"
   },
   {
    "duration": 6,
    "start_time": "2022-04-20T18:06:52.949Z"
   },
   {
    "duration": 186851,
    "start_time": "2022-04-20T18:06:52.956Z"
   },
   {
    "duration": 0,
    "start_time": "2022-04-20T18:09:59.809Z"
   },
   {
    "duration": 0,
    "start_time": "2022-04-20T18:09:59.811Z"
   },
   {
    "duration": 0,
    "start_time": "2022-04-20T18:09:59.826Z"
   },
   {
    "duration": 0,
    "start_time": "2022-04-20T18:09:59.827Z"
   },
   {
    "duration": 0,
    "start_time": "2022-04-20T18:09:59.828Z"
   },
   {
    "duration": 0,
    "start_time": "2022-04-20T18:09:59.830Z"
   },
   {
    "duration": 0,
    "start_time": "2022-04-20T18:09:59.831Z"
   },
   {
    "duration": 0,
    "start_time": "2022-04-20T18:09:59.833Z"
   },
   {
    "duration": 0,
    "start_time": "2022-04-20T18:09:59.834Z"
   },
   {
    "duration": 0,
    "start_time": "2022-04-20T18:09:59.835Z"
   },
   {
    "duration": 0,
    "start_time": "2022-04-20T18:09:59.836Z"
   },
   {
    "duration": 0,
    "start_time": "2022-04-20T18:09:59.838Z"
   },
   {
    "duration": 0,
    "start_time": "2022-04-20T18:09:59.839Z"
   },
   {
    "duration": 0,
    "start_time": "2022-04-20T18:09:59.840Z"
   },
   {
    "duration": 0,
    "start_time": "2022-04-20T18:09:59.842Z"
   },
   {
    "duration": 1400,
    "start_time": "2022-04-20T18:10:09.222Z"
   },
   {
    "duration": 28,
    "start_time": "2022-04-20T18:10:10.626Z"
   },
   {
    "duration": 14,
    "start_time": "2022-04-20T18:10:10.656Z"
   },
   {
    "duration": 18,
    "start_time": "2022-04-20T18:10:10.673Z"
   },
   {
    "duration": 50,
    "start_time": "2022-04-20T18:10:10.692Z"
   },
   {
    "duration": 5,
    "start_time": "2022-04-20T18:10:10.744Z"
   },
   {
    "duration": 27,
    "start_time": "2022-04-20T18:10:10.751Z"
   },
   {
    "duration": 10,
    "start_time": "2022-04-20T18:10:10.779Z"
   },
   {
    "duration": 26,
    "start_time": "2022-04-20T18:10:10.791Z"
   },
   {
    "duration": 31,
    "start_time": "2022-04-20T18:10:10.820Z"
   },
   {
    "duration": 24,
    "start_time": "2022-04-20T18:10:10.853Z"
   },
   {
    "duration": 59,
    "start_time": "2022-04-20T18:10:10.879Z"
   },
   {
    "duration": 3,
    "start_time": "2022-04-20T18:10:10.940Z"
   },
   {
    "duration": 15,
    "start_time": "2022-04-20T18:10:10.945Z"
   },
   {
    "duration": 18,
    "start_time": "2022-04-20T18:10:10.962Z"
   },
   {
    "duration": 26,
    "start_time": "2022-04-20T18:10:10.981Z"
   },
   {
    "duration": 11,
    "start_time": "2022-04-20T18:10:11.009Z"
   },
   {
    "duration": 25,
    "start_time": "2022-04-20T18:10:11.022Z"
   },
   {
    "duration": 18,
    "start_time": "2022-04-20T18:10:11.048Z"
   },
   {
    "duration": 19,
    "start_time": "2022-04-20T18:10:11.068Z"
   },
   {
    "duration": 10,
    "start_time": "2022-04-20T18:10:11.089Z"
   },
   {
    "duration": 19,
    "start_time": "2022-04-20T18:10:11.100Z"
   },
   {
    "duration": 174090,
    "start_time": "2022-04-20T18:10:11.120Z"
   },
   {
    "duration": 40,
    "start_time": "2022-04-20T18:13:05.212Z"
   },
   {
    "duration": 111,
    "start_time": "2022-04-20T18:13:05.254Z"
   },
   {
    "duration": 0,
    "start_time": "2022-04-20T18:13:05.367Z"
   },
   {
    "duration": 0,
    "start_time": "2022-04-20T18:13:05.368Z"
   },
   {
    "duration": 0,
    "start_time": "2022-04-20T18:13:05.369Z"
   },
   {
    "duration": 0,
    "start_time": "2022-04-20T18:13:05.370Z"
   },
   {
    "duration": 0,
    "start_time": "2022-04-20T18:13:05.371Z"
   },
   {
    "duration": 0,
    "start_time": "2022-04-20T18:13:05.372Z"
   },
   {
    "duration": 0,
    "start_time": "2022-04-20T18:13:05.373Z"
   },
   {
    "duration": 1,
    "start_time": "2022-04-20T18:13:05.373Z"
   },
   {
    "duration": 0,
    "start_time": "2022-04-20T18:13:05.375Z"
   },
   {
    "duration": 0,
    "start_time": "2022-04-20T18:13:05.376Z"
   },
   {
    "duration": 0,
    "start_time": "2022-04-20T18:13:05.376Z"
   },
   {
    "duration": 0,
    "start_time": "2022-04-20T18:13:05.377Z"
   },
   {
    "duration": 0,
    "start_time": "2022-04-20T18:13:05.378Z"
   },
   {
    "duration": 0,
    "start_time": "2022-04-20T18:13:05.379Z"
   },
   {
    "duration": 0,
    "start_time": "2022-04-20T18:13:05.380Z"
   },
   {
    "duration": 0,
    "start_time": "2022-04-20T18:13:05.381Z"
   },
   {
    "duration": 0,
    "start_time": "2022-04-20T18:13:05.383Z"
   },
   {
    "duration": 0,
    "start_time": "2022-04-20T18:13:05.384Z"
   },
   {
    "duration": 0,
    "start_time": "2022-04-20T18:13:05.385Z"
   },
   {
    "duration": 0,
    "start_time": "2022-04-20T18:13:05.386Z"
   },
   {
    "duration": 0,
    "start_time": "2022-04-20T18:13:05.387Z"
   },
   {
    "duration": 0,
    "start_time": "2022-04-20T18:13:05.388Z"
   },
   {
    "duration": 0,
    "start_time": "2022-04-20T18:13:05.424Z"
   },
   {
    "duration": 0,
    "start_time": "2022-04-20T18:13:05.426Z"
   },
   {
    "duration": 0,
    "start_time": "2022-04-20T18:13:05.428Z"
   },
   {
    "duration": 0,
    "start_time": "2022-04-20T18:13:05.429Z"
   },
   {
    "duration": 14,
    "start_time": "2022-04-20T18:37:19.044Z"
   },
   {
    "duration": 3,
    "start_time": "2022-04-20T18:37:24.124Z"
   },
   {
    "duration": 27,
    "start_time": "2022-04-20T18:38:26.587Z"
   },
   {
    "duration": 8,
    "start_time": "2022-04-20T18:38:35.220Z"
   },
   {
    "duration": 10232,
    "start_time": "2022-04-20T18:38:54.999Z"
   },
   {
    "duration": 8,
    "start_time": "2022-04-20T18:39:43.289Z"
   },
   {
    "duration": 10,
    "start_time": "2022-04-20T18:40:07.980Z"
   },
   {
    "duration": 203,
    "start_time": "2022-04-20T18:43:36.327Z"
   },
   {
    "duration": 240,
    "start_time": "2022-04-20T18:43:52.988Z"
   },
   {
    "duration": 9,
    "start_time": "2022-04-20T18:56:06.969Z"
   },
   {
    "duration": 5,
    "start_time": "2022-04-20T18:56:20.106Z"
   },
   {
    "duration": 6,
    "start_time": "2022-04-20T18:56:21.163Z"
   },
   {
    "duration": 3,
    "start_time": "2022-04-20T18:56:23.124Z"
   },
   {
    "duration": 6,
    "start_time": "2022-04-20T18:56:23.636Z"
   },
   {
    "duration": 5,
    "start_time": "2022-04-20T18:56:24.334Z"
   },
   {
    "duration": 5,
    "start_time": "2022-04-20T18:56:24.676Z"
   },
   {
    "duration": 12811,
    "start_time": "2022-04-20T18:56:26.837Z"
   },
   {
    "duration": 6,
    "start_time": "2022-04-20T18:56:39.650Z"
   },
   {
    "duration": 9,
    "start_time": "2022-04-20T18:58:30.743Z"
   },
   {
    "duration": 191176,
    "start_time": "2022-04-20T18:59:18.682Z"
   },
   {
    "duration": 33,
    "start_time": "2022-04-20T19:04:36.079Z"
   },
   {
    "duration": 32,
    "start_time": "2022-04-20T19:04:44.712Z"
   },
   {
    "duration": 265,
    "start_time": "2022-04-20T19:04:57.964Z"
   },
   {
    "duration": 15,
    "start_time": "2022-04-20T19:05:05.409Z"
   },
   {
    "duration": 6,
    "start_time": "2022-04-20T19:05:07.201Z"
   },
   {
    "duration": 86,
    "start_time": "2022-04-20T19:05:15.325Z"
   },
   {
    "duration": 9,
    "start_time": "2022-04-20T19:05:16.618Z"
   },
   {
    "duration": 4,
    "start_time": "2022-04-20T19:05:17.372Z"
   },
   {
    "duration": 7,
    "start_time": "2022-04-20T19:05:23.539Z"
   },
   {
    "duration": 10,
    "start_time": "2022-04-20T19:05:25.947Z"
   },
   {
    "duration": 5,
    "start_time": "2022-04-20T19:05:26.336Z"
   },
   {
    "duration": 101,
    "start_time": "2022-04-20T19:08:59.393Z"
   }
  ],
  "kernelspec": {
   "display_name": "Python 3 (ipykernel)",
   "language": "python",
   "name": "python3"
  },
  "language_info": {
   "codemirror_mode": {
    "name": "ipython",
    "version": 3
   },
   "file_extension": ".py",
   "mimetype": "text/x-python",
   "name": "python",
   "nbconvert_exporter": "python",
   "pygments_lexer": "ipython3",
   "version": "3.9.7"
  },
  "toc": {
   "base_numbering": 1,
   "nav_menu": {},
   "number_sections": true,
   "sideBar": true,
   "skip_h1_title": false,
   "title_cell": "Table of Contents",
   "title_sidebar": "Contents",
   "toc_cell": false,
   "toc_position": {
    "height": "calc(100% - 180px)",
    "left": "10px",
    "top": "150px",
    "width": "307.2px"
   },
   "toc_section_display": true,
   "toc_window_display": true
  }
 },
 "nbformat": 4,
 "nbformat_minor": 5
}
